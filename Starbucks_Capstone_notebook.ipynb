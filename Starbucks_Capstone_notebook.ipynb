{
 "cells": [
  {
   "cell_type": "markdown",
   "metadata": {},
   "source": [
    "# Starbucks Capstone Challenge"
   ]
  },
  {
   "cell_type": "markdown",
   "metadata": {},
   "source": [
    "# Project Overview\n",
    "\n",
    "### Objective\n",
    "The objective of this project is to predict which customer will complete an offer based on their attributes. This can help the company to identify customer segments that need/do not need to be made special offer.\n",
    "\n"
   ]
  },
  {
   "cell_type": "markdown",
   "metadata": {},
   "source": [
    "### Data Sets\n",
    "\n",
    "The data is contained in three files:\n",
    "\n",
    "* portfolio.json - containing offer ids and meta data about each offer (duration, type, etc.)\n",
    "* profile.json - demographic data for each customer\n",
    "* transcript.json - records for transactions, offers received, offers viewed, and offers completed\n",
    "\n",
    "This data sets contains simulated data that mimics customer behavior on the Starbucks rewards mobile app. Once every few days, Starbucks sends out an offer to users of the mobile app. An offer can be merely an advertisement for a drink or an actual offer such as a discount or BOGO (buy one get one free). Some users might not receive any offer during certain weeks. \n",
    "\n",
    "Not all users receive the same offer, and that is the challenge to solve with this data set.\n",
    "\n",
    "This data set is a simplified version of the real Starbucks app because the underlying simulator only has one product whereas Starbucks actually sells dozens of products.\n",
    "\n",
    "Every offer has a validity period before the offer expires. As an example, a BOGO offer might be valid for only 5 days. You'll see in the data set that informational offers have a validity period even though these ads are merely providing information about a product; for example, if an informational offer has 7 days of validity, you can assume the customer is feeling the influence of the offer for 7 days after receiving the advertisement.\n",
    "\n",
    "Here is the schema and explanation of each variable in the files:\n",
    "\n",
    "**portfolio.json**\n",
    "* id (string) - offer id\n",
    "* offer_type (string) - type of offer ie BOGO, discount, informational\n",
    "* difficulty (int) - minimum required spend to complete an offer\n",
    "* reward (int) - reward given for completing an offer\n",
    "* duration (int) - time for offer to be open, in days\n",
    "* channels (list of strings)\n",
    "\n",
    "**profile.json**\n",
    "* age (int) - age of the customer \n",
    "* became_member_on (int) - date when customer created an app account\n",
    "* gender (str) - gender of the customer (note some entries contain 'O' for other rather than M or F)\n",
    "* id (str) - customer id\n",
    "* income (float) - customer's income\n",
    "\n",
    "**transcript.json**\n",
    "* event (str) - record description (ie transaction, offer received, offer viewed, etc.)\n",
    "* person (str) - customer id\n",
    "* time (int) - time in hours since start of test. The data begins at time t=0\n",
    "* value - (dict of strings) - either an offer id or transaction amount depending on the record"
   ]
  },
  {
   "cell_type": "markdown",
   "metadata": {},
   "source": [
    "# Problem Statement & Strategy\n",
    "\n",
    "### Problem Statement\n",
    "Which customer segment are likely to complete an offer?\n",
    "The goal of this project is to combine transaction, demographic, and offer data to determine which demographic groups respond best to an offer.\n",
    "\n",
    "### Strategy\n",
    "In this project, I am interested to predict which customer will complete an offer or not. \n",
    "Since this is a classification problem, I will be using multiple classification algorithm as listed below:\n",
    "* Logistic Regresssion\n",
    "* Naive Bayes\n",
    "* Stochastic Gradient Descent\n",
    "* Support Vector Machine\n",
    "* Random Forest\n",
    "* K-Nearest Neighbors\n",
    "\n",
    "The target variable will be an indicator whether a customer complete an offer or not.\n",
    "In terms of predictors, I will consider customer attributes like age, income, gender etc."
   ]
  },
  {
   "cell_type": "markdown",
   "metadata": {},
   "source": [
    "# Metrics\n",
    "\n",
    "To evaluate the classification models, I will consider the following metrics:\n",
    "* Accuracy\n",
    "* Precision\n",
    "* Recall\n",
    "* F1-Score"
   ]
  },
  {
   "cell_type": "markdown",
   "metadata": {},
   "source": [
    "# Import Libraries"
   ]
  },
  {
   "cell_type": "code",
   "execution_count": 1,
   "metadata": {},
   "outputs": [],
   "source": [
    "import pandas as pd\n",
    "import numpy as np\n",
    "import math\n",
    "import json\n",
    "import time\n",
    "import datetime\n",
    "import seaborn as sns\n",
    "import matplotlib.pyplot as plt\n",
    "%matplotlib inline\n",
    "\n",
    "from sklearn.model_selection import train_test_split, GridSearchCV\n",
    "from sklearn.metrics import precision_recall_fscore_support\n",
    "from sklearn.linear_model import SGDClassifier\n",
    "from sklearn.svm import SVC\n",
    "from sklearn.naive_bayes import GaussianNB \n",
    "from sklearn.neighbors import KNeighborsClassifier\n",
    "from sklearn.linear_model import LogisticRegression\n",
    "from sklearn.ensemble import RandomForestClassifier"
   ]
  },
  {
   "cell_type": "markdown",
   "metadata": {},
   "source": [
    "# Settings"
   ]
  },
  {
   "cell_type": "code",
   "execution_count": 2,
   "metadata": {},
   "outputs": [
    {
     "data": {
      "text/html": [
       "<style>.container { width:100% !important; }</style>"
      ],
      "text/plain": [
       "<IPython.core.display.HTML object>"
      ]
     },
     "metadata": {},
     "output_type": "display_data"
    }
   ],
   "source": [
    "# To view all generated results\n",
    "pd.set_option('display.width', 1000)\n",
    "pd.set_option('display.max_rows', 500)\n",
    "\n",
    "# Ignore pandas chained assignment errors\n",
    "pd.options.mode.chained_assignment = None\n",
    "\n",
    "# Widen the Jupyter Notebook as much as possible\n",
    "from IPython.core.display import display, HTML\n",
    "display(HTML(\"<style>.container { width:100% !important; }</style>\"))"
   ]
  },
  {
   "cell_type": "markdown",
   "metadata": {},
   "source": [
    "# Portfolio Data"
   ]
  },
  {
   "cell_type": "markdown",
   "metadata": {},
   "source": [
    "## Import Data"
   ]
  },
  {
   "cell_type": "code",
   "execution_count": 3,
   "metadata": {},
   "outputs": [
    {
     "data": {
      "text/html": [
       "<div>\n",
       "<style scoped>\n",
       "    .dataframe tbody tr th:only-of-type {\n",
       "        vertical-align: middle;\n",
       "    }\n",
       "\n",
       "    .dataframe tbody tr th {\n",
       "        vertical-align: top;\n",
       "    }\n",
       "\n",
       "    .dataframe thead th {\n",
       "        text-align: right;\n",
       "    }\n",
       "</style>\n",
       "<table border=\"1\" class=\"dataframe\">\n",
       "  <thead>\n",
       "    <tr style=\"text-align: right;\">\n",
       "      <th></th>\n",
       "      <th>offer_id</th>\n",
       "      <th>offer_type</th>\n",
       "      <th>channels</th>\n",
       "      <th>duration</th>\n",
       "      <th>difficulty</th>\n",
       "      <th>offer_reward</th>\n",
       "    </tr>\n",
       "  </thead>\n",
       "  <tbody>\n",
       "    <tr>\n",
       "      <th>0</th>\n",
       "      <td>ae264e3637204a6fb9bb56bc8210ddfd</td>\n",
       "      <td>bogo</td>\n",
       "      <td>[email, mobile, social]</td>\n",
       "      <td>7</td>\n",
       "      <td>10</td>\n",
       "      <td>10</td>\n",
       "    </tr>\n",
       "    <tr>\n",
       "      <th>1</th>\n",
       "      <td>4d5c57ea9a6940dd891ad53e9dbe8da0</td>\n",
       "      <td>bogo</td>\n",
       "      <td>[web, email, mobile, social]</td>\n",
       "      <td>5</td>\n",
       "      <td>10</td>\n",
       "      <td>10</td>\n",
       "    </tr>\n",
       "    <tr>\n",
       "      <th>2</th>\n",
       "      <td>3f207df678b143eea3cee63160fa8bed</td>\n",
       "      <td>informational</td>\n",
       "      <td>[web, email, mobile]</td>\n",
       "      <td>4</td>\n",
       "      <td>0</td>\n",
       "      <td>0</td>\n",
       "    </tr>\n",
       "    <tr>\n",
       "      <th>3</th>\n",
       "      <td>9b98b8c7a33c4b65b9aebfe6a799e6d9</td>\n",
       "      <td>bogo</td>\n",
       "      <td>[web, email, mobile]</td>\n",
       "      <td>7</td>\n",
       "      <td>5</td>\n",
       "      <td>5</td>\n",
       "    </tr>\n",
       "    <tr>\n",
       "      <th>4</th>\n",
       "      <td>0b1e1539f2cc45b7b9fa7c272da2e1d7</td>\n",
       "      <td>discount</td>\n",
       "      <td>[web, email]</td>\n",
       "      <td>10</td>\n",
       "      <td>20</td>\n",
       "      <td>5</td>\n",
       "    </tr>\n",
       "    <tr>\n",
       "      <th>5</th>\n",
       "      <td>2298d6c36e964ae4a3e7e9706d1fb8c2</td>\n",
       "      <td>discount</td>\n",
       "      <td>[web, email, mobile, social]</td>\n",
       "      <td>7</td>\n",
       "      <td>7</td>\n",
       "      <td>3</td>\n",
       "    </tr>\n",
       "    <tr>\n",
       "      <th>6</th>\n",
       "      <td>fafdcd668e3743c1bb461111dcafc2a4</td>\n",
       "      <td>discount</td>\n",
       "      <td>[web, email, mobile, social]</td>\n",
       "      <td>10</td>\n",
       "      <td>10</td>\n",
       "      <td>2</td>\n",
       "    </tr>\n",
       "    <tr>\n",
       "      <th>7</th>\n",
       "      <td>5a8bc65990b245e5a138643cd4eb9837</td>\n",
       "      <td>informational</td>\n",
       "      <td>[email, mobile, social]</td>\n",
       "      <td>3</td>\n",
       "      <td>0</td>\n",
       "      <td>0</td>\n",
       "    </tr>\n",
       "    <tr>\n",
       "      <th>8</th>\n",
       "      <td>f19421c1d4aa40978ebb69ca19b0e20d</td>\n",
       "      <td>bogo</td>\n",
       "      <td>[web, email, mobile, social]</td>\n",
       "      <td>5</td>\n",
       "      <td>5</td>\n",
       "      <td>5</td>\n",
       "    </tr>\n",
       "    <tr>\n",
       "      <th>9</th>\n",
       "      <td>2906b810c7d4411798c6938adc9daaa5</td>\n",
       "      <td>discount</td>\n",
       "      <td>[web, email, mobile]</td>\n",
       "      <td>7</td>\n",
       "      <td>10</td>\n",
       "      <td>2</td>\n",
       "    </tr>\n",
       "  </tbody>\n",
       "</table>\n",
       "</div>"
      ],
      "text/plain": [
       "                           offer_id     offer_type                      channels  duration  difficulty  offer_reward\n",
       "0  ae264e3637204a6fb9bb56bc8210ddfd           bogo       [email, mobile, social]         7          10            10\n",
       "1  4d5c57ea9a6940dd891ad53e9dbe8da0           bogo  [web, email, mobile, social]         5          10            10\n",
       "2  3f207df678b143eea3cee63160fa8bed  informational          [web, email, mobile]         4           0             0\n",
       "3  9b98b8c7a33c4b65b9aebfe6a799e6d9           bogo          [web, email, mobile]         7           5             5\n",
       "4  0b1e1539f2cc45b7b9fa7c272da2e1d7       discount                  [web, email]        10          20             5\n",
       "5  2298d6c36e964ae4a3e7e9706d1fb8c2       discount  [web, email, mobile, social]         7           7             3\n",
       "6  fafdcd668e3743c1bb461111dcafc2a4       discount  [web, email, mobile, social]        10          10             2\n",
       "7  5a8bc65990b245e5a138643cd4eb9837  informational       [email, mobile, social]         3           0             0\n",
       "8  f19421c1d4aa40978ebb69ca19b0e20d           bogo  [web, email, mobile, social]         5           5             5\n",
       "9  2906b810c7d4411798c6938adc9daaa5       discount          [web, email, mobile]         7          10             2"
      ]
     },
     "execution_count": 3,
     "metadata": {},
     "output_type": "execute_result"
    }
   ],
   "source": [
    "# read in the json files\n",
    "portfolio = pd.read_json('data\\\\portfolio.json', orient='records', lines=True)\n",
    "\n",
    "# Rename column \n",
    "portfolio.rename(columns={'id': 'offer_id', 'reward': 'offer_reward'}, inplace=True)\n",
    "\n",
    "# Rearrange column order\n",
    "portfolio = portfolio[['offer_id', 'offer_type', 'channels', 'duration', 'difficulty', 'offer_reward']]\n",
    "portfolio = pd.DataFrame(portfolio)\n",
    "portfolio"
   ]
  },
  {
   "cell_type": "code",
   "execution_count": 4,
   "metadata": {},
   "outputs": [
    {
     "data": {
      "text/plain": [
       "(10, 6)"
      ]
     },
     "execution_count": 4,
     "metadata": {},
     "output_type": "execute_result"
    }
   ],
   "source": [
    "# View shape\n",
    "portfolio.shape"
   ]
  },
  {
   "cell_type": "code",
   "execution_count": 5,
   "metadata": {},
   "outputs": [
    {
     "name": "stdout",
     "output_type": "stream",
     "text": [
      "<class 'pandas.core.frame.DataFrame'>\n",
      "RangeIndex: 10 entries, 0 to 9\n",
      "Data columns (total 6 columns):\n",
      " #   Column        Non-Null Count  Dtype \n",
      "---  ------        --------------  ----- \n",
      " 0   offer_id      10 non-null     object\n",
      " 1   offer_type    10 non-null     object\n",
      " 2   channels      10 non-null     object\n",
      " 3   duration      10 non-null     int64 \n",
      " 4   difficulty    10 non-null     int64 \n",
      " 5   offer_reward  10 non-null     int64 \n",
      "dtypes: int64(3), object(3)\n",
      "memory usage: 608.0+ bytes\n"
     ]
    }
   ],
   "source": [
    "# Data general info\n",
    "portfolio.info()"
   ]
  },
  {
   "cell_type": "code",
   "execution_count": 6,
   "metadata": {},
   "outputs": [
    {
     "data": {
      "text/plain": [
       "offer_id        0\n",
       "offer_type      0\n",
       "channels        0\n",
       "duration        0\n",
       "difficulty      0\n",
       "offer_reward    0\n",
       "dtype: int64"
      ]
     },
     "execution_count": 6,
     "metadata": {},
     "output_type": "execute_result"
    }
   ],
   "source": [
    "# View missing values\n",
    "portfolio.isnull().sum()"
   ]
  },
  {
   "cell_type": "markdown",
   "metadata": {},
   "source": [
    "## Data Cleansing"
   ]
  },
  {
   "cell_type": "code",
   "execution_count": 7,
   "metadata": {},
   "outputs": [
    {
     "data": {
      "text/plain": [
       "0"
      ]
     },
     "execution_count": 7,
     "metadata": {},
     "output_type": "execute_result"
    }
   ],
   "source": [
    "# Check for duplicates\n",
    "portfolio.columns.duplicated().sum()"
   ]
  },
  {
   "cell_type": "markdown",
   "metadata": {},
   "source": [
    "### Offer Type"
   ]
  },
  {
   "cell_type": "code",
   "execution_count": 8,
   "metadata": {},
   "outputs": [
    {
     "data": {
      "text/plain": [
       "discount         4\n",
       "bogo             4\n",
       "informational    2\n",
       "Name: offer_type, dtype: int64"
      ]
     },
     "execution_count": 8,
     "metadata": {},
     "output_type": "execute_result"
    }
   ],
   "source": [
    "# View number of offer type\n",
    "portfolio.offer_type.value_counts()"
   ]
  },
  {
   "cell_type": "markdown",
   "metadata": {},
   "source": [
    "### Channels"
   ]
  },
  {
   "cell_type": "code",
   "execution_count": 9,
   "metadata": {},
   "outputs": [
    {
     "data": {
      "text/plain": [
       "7         [email, mobile, social]\n",
       "3            [web, email, mobile]\n",
       "4                    [web, email]\n",
       "1    [web, email, mobile, social]\n",
       "6    [web, email, mobile, social]\n",
       "5    [web, email, mobile, social]\n",
       "2            [web, email, mobile]\n",
       "8    [web, email, mobile, social]\n",
       "9            [web, email, mobile]\n",
       "0         [email, mobile, social]\n",
       "Name: channels, dtype: object"
      ]
     },
     "execution_count": 9,
     "metadata": {},
     "output_type": "execute_result"
    }
   ],
   "source": [
    "# View channel\n",
    "portfolio.channels.sample(10)\n",
    "# Need to break this column into multiple columns of channel indicators"
   ]
  },
  {
   "cell_type": "code",
   "execution_count": 10,
   "metadata": {},
   "outputs": [
    {
     "data": {
      "text/html": [
       "<div>\n",
       "<style scoped>\n",
       "    .dataframe tbody tr th:only-of-type {\n",
       "        vertical-align: middle;\n",
       "    }\n",
       "\n",
       "    .dataframe tbody tr th {\n",
       "        vertical-align: top;\n",
       "    }\n",
       "\n",
       "    .dataframe thead th {\n",
       "        text-align: right;\n",
       "    }\n",
       "</style>\n",
       "<table border=\"1\" class=\"dataframe\">\n",
       "  <thead>\n",
       "    <tr style=\"text-align: right;\">\n",
       "      <th></th>\n",
       "      <th>offer_id</th>\n",
       "      <th>offer_type</th>\n",
       "      <th>duration</th>\n",
       "      <th>difficulty</th>\n",
       "      <th>offer_reward</th>\n",
       "      <th>channel_web</th>\n",
       "      <th>channel_email</th>\n",
       "      <th>channel_mobile</th>\n",
       "      <th>channel_social</th>\n",
       "    </tr>\n",
       "  </thead>\n",
       "  <tbody>\n",
       "    <tr>\n",
       "      <th>0</th>\n",
       "      <td>ae264e3637204a6fb9bb56bc8210ddfd</td>\n",
       "      <td>bogo</td>\n",
       "      <td>7</td>\n",
       "      <td>10</td>\n",
       "      <td>10</td>\n",
       "      <td>0</td>\n",
       "      <td>1</td>\n",
       "      <td>1</td>\n",
       "      <td>1</td>\n",
       "    </tr>\n",
       "    <tr>\n",
       "      <th>1</th>\n",
       "      <td>4d5c57ea9a6940dd891ad53e9dbe8da0</td>\n",
       "      <td>bogo</td>\n",
       "      <td>5</td>\n",
       "      <td>10</td>\n",
       "      <td>10</td>\n",
       "      <td>1</td>\n",
       "      <td>1</td>\n",
       "      <td>1</td>\n",
       "      <td>1</td>\n",
       "    </tr>\n",
       "    <tr>\n",
       "      <th>2</th>\n",
       "      <td>3f207df678b143eea3cee63160fa8bed</td>\n",
       "      <td>informational</td>\n",
       "      <td>4</td>\n",
       "      <td>0</td>\n",
       "      <td>0</td>\n",
       "      <td>1</td>\n",
       "      <td>1</td>\n",
       "      <td>1</td>\n",
       "      <td>0</td>\n",
       "    </tr>\n",
       "    <tr>\n",
       "      <th>3</th>\n",
       "      <td>9b98b8c7a33c4b65b9aebfe6a799e6d9</td>\n",
       "      <td>bogo</td>\n",
       "      <td>7</td>\n",
       "      <td>5</td>\n",
       "      <td>5</td>\n",
       "      <td>1</td>\n",
       "      <td>1</td>\n",
       "      <td>1</td>\n",
       "      <td>0</td>\n",
       "    </tr>\n",
       "    <tr>\n",
       "      <th>4</th>\n",
       "      <td>0b1e1539f2cc45b7b9fa7c272da2e1d7</td>\n",
       "      <td>discount</td>\n",
       "      <td>10</td>\n",
       "      <td>20</td>\n",
       "      <td>5</td>\n",
       "      <td>1</td>\n",
       "      <td>1</td>\n",
       "      <td>0</td>\n",
       "      <td>0</td>\n",
       "    </tr>\n",
       "    <tr>\n",
       "      <th>5</th>\n",
       "      <td>2298d6c36e964ae4a3e7e9706d1fb8c2</td>\n",
       "      <td>discount</td>\n",
       "      <td>7</td>\n",
       "      <td>7</td>\n",
       "      <td>3</td>\n",
       "      <td>1</td>\n",
       "      <td>1</td>\n",
       "      <td>1</td>\n",
       "      <td>1</td>\n",
       "    </tr>\n",
       "    <tr>\n",
       "      <th>6</th>\n",
       "      <td>fafdcd668e3743c1bb461111dcafc2a4</td>\n",
       "      <td>discount</td>\n",
       "      <td>10</td>\n",
       "      <td>10</td>\n",
       "      <td>2</td>\n",
       "      <td>1</td>\n",
       "      <td>1</td>\n",
       "      <td>1</td>\n",
       "      <td>1</td>\n",
       "    </tr>\n",
       "    <tr>\n",
       "      <th>7</th>\n",
       "      <td>5a8bc65990b245e5a138643cd4eb9837</td>\n",
       "      <td>informational</td>\n",
       "      <td>3</td>\n",
       "      <td>0</td>\n",
       "      <td>0</td>\n",
       "      <td>0</td>\n",
       "      <td>1</td>\n",
       "      <td>1</td>\n",
       "      <td>1</td>\n",
       "    </tr>\n",
       "    <tr>\n",
       "      <th>8</th>\n",
       "      <td>f19421c1d4aa40978ebb69ca19b0e20d</td>\n",
       "      <td>bogo</td>\n",
       "      <td>5</td>\n",
       "      <td>5</td>\n",
       "      <td>5</td>\n",
       "      <td>1</td>\n",
       "      <td>1</td>\n",
       "      <td>1</td>\n",
       "      <td>1</td>\n",
       "    </tr>\n",
       "    <tr>\n",
       "      <th>9</th>\n",
       "      <td>2906b810c7d4411798c6938adc9daaa5</td>\n",
       "      <td>discount</td>\n",
       "      <td>7</td>\n",
       "      <td>10</td>\n",
       "      <td>2</td>\n",
       "      <td>1</td>\n",
       "      <td>1</td>\n",
       "      <td>1</td>\n",
       "      <td>0</td>\n",
       "    </tr>\n",
       "  </tbody>\n",
       "</table>\n",
       "</div>"
      ],
      "text/plain": [
       "                           offer_id     offer_type  duration  difficulty  offer_reward  channel_web  channel_email  channel_mobile  channel_social\n",
       "0  ae264e3637204a6fb9bb56bc8210ddfd           bogo         7          10            10            0              1               1               1\n",
       "1  4d5c57ea9a6940dd891ad53e9dbe8da0           bogo         5          10            10            1              1               1               1\n",
       "2  3f207df678b143eea3cee63160fa8bed  informational         4           0             0            1              1               1               0\n",
       "3  9b98b8c7a33c4b65b9aebfe6a799e6d9           bogo         7           5             5            1              1               1               0\n",
       "4  0b1e1539f2cc45b7b9fa7c272da2e1d7       discount        10          20             5            1              1               0               0\n",
       "5  2298d6c36e964ae4a3e7e9706d1fb8c2       discount         7           7             3            1              1               1               1\n",
       "6  fafdcd668e3743c1bb461111dcafc2a4       discount        10          10             2            1              1               1               1\n",
       "7  5a8bc65990b245e5a138643cd4eb9837  informational         3           0             0            0              1               1               1\n",
       "8  f19421c1d4aa40978ebb69ca19b0e20d           bogo         5           5             5            1              1               1               1\n",
       "9  2906b810c7d4411798c6938adc9daaa5       discount         7          10             2            1              1               1               0"
      ]
     },
     "execution_count": 10,
     "metadata": {},
     "output_type": "execute_result"
    }
   ],
   "source": [
    "# multiple columns of channel indicators\n",
    "channels = ['web', 'email', 'mobile', 'social']\n",
    "\n",
    "for channel in channels:\n",
    "    portfolio['channel_' + channel] = portfolio['channels'].apply(lambda x: 1 if channel in x else 0)\n",
    "    \n",
    "# Drop channel column\n",
    "portfolio.drop(columns='channels', axis=1, inplace=True)\n",
    "portfolio"
   ]
  },
  {
   "cell_type": "markdown",
   "metadata": {},
   "source": [
    "### Duration"
   ]
  },
  {
   "cell_type": "code",
   "execution_count": 11,
   "metadata": {},
   "outputs": [
    {
     "data": {
      "text/plain": [
       "3     1\n",
       "4     1\n",
       "5     2\n",
       "7     4\n",
       "10    2\n",
       "Name: duration, dtype: int64"
      ]
     },
     "execution_count": 11,
     "metadata": {},
     "output_type": "execute_result"
    }
   ],
   "source": [
    "# View duration (days)\n",
    "portfolio.duration.value_counts().sort_index()"
   ]
  },
  {
   "cell_type": "markdown",
   "metadata": {},
   "source": [
    "### Difficulty"
   ]
  },
  {
   "cell_type": "code",
   "execution_count": 12,
   "metadata": {},
   "outputs": [
    {
     "data": {
      "text/plain": [
       "0     2\n",
       "5     2\n",
       "7     1\n",
       "10    4\n",
       "20    1\n",
       "Name: difficulty, dtype: int64"
      ]
     },
     "execution_count": 12,
     "metadata": {},
     "output_type": "execute_result"
    }
   ],
   "source": [
    "# View difficulty (min spend to complete the offer)\n",
    "portfolio.difficulty.value_counts().sort_index()"
   ]
  },
  {
   "cell_type": "markdown",
   "metadata": {},
   "source": [
    "### Reward"
   ]
  },
  {
   "cell_type": "code",
   "execution_count": 13,
   "metadata": {},
   "outputs": [
    {
     "data": {
      "text/plain": [
       "0     2\n",
       "2     2\n",
       "3     1\n",
       "5     3\n",
       "10    2\n",
       "Name: offer_reward, dtype: int64"
      ]
     },
     "execution_count": 13,
     "metadata": {},
     "output_type": "execute_result"
    }
   ],
   "source": [
    "# View reward\n",
    "portfolio.offer_reward.value_counts().sort_index()"
   ]
  },
  {
   "cell_type": "markdown",
   "metadata": {},
   "source": [
    "# Profile Data"
   ]
  },
  {
   "cell_type": "markdown",
   "metadata": {},
   "source": [
    "## Import Data"
   ]
  },
  {
   "cell_type": "code",
   "execution_count": 14,
   "metadata": {},
   "outputs": [
    {
     "data": {
      "text/html": [
       "<div>\n",
       "<style scoped>\n",
       "    .dataframe tbody tr th:only-of-type {\n",
       "        vertical-align: middle;\n",
       "    }\n",
       "\n",
       "    .dataframe tbody tr th {\n",
       "        vertical-align: top;\n",
       "    }\n",
       "\n",
       "    .dataframe thead th {\n",
       "        text-align: right;\n",
       "    }\n",
       "</style>\n",
       "<table border=\"1\" class=\"dataframe\">\n",
       "  <thead>\n",
       "    <tr style=\"text-align: right;\">\n",
       "      <th></th>\n",
       "      <th>cust_id</th>\n",
       "      <th>gender</th>\n",
       "      <th>age</th>\n",
       "      <th>income</th>\n",
       "      <th>membership_dt</th>\n",
       "    </tr>\n",
       "  </thead>\n",
       "  <tbody>\n",
       "    <tr>\n",
       "      <th>0</th>\n",
       "      <td>68be06ca386d4c31939f3a4f0e3dd783</td>\n",
       "      <td>None</td>\n",
       "      <td>118</td>\n",
       "      <td>NaN</td>\n",
       "      <td>20170212</td>\n",
       "    </tr>\n",
       "    <tr>\n",
       "      <th>1</th>\n",
       "      <td>0610b486422d4921ae7d2bf64640c50b</td>\n",
       "      <td>F</td>\n",
       "      <td>55</td>\n",
       "      <td>112000.0</td>\n",
       "      <td>20170715</td>\n",
       "    </tr>\n",
       "    <tr>\n",
       "      <th>2</th>\n",
       "      <td>38fe809add3b4fcf9315a9694bb96ff5</td>\n",
       "      <td>None</td>\n",
       "      <td>118</td>\n",
       "      <td>NaN</td>\n",
       "      <td>20180712</td>\n",
       "    </tr>\n",
       "    <tr>\n",
       "      <th>3</th>\n",
       "      <td>78afa995795e4d85b5d9ceeca43f5fef</td>\n",
       "      <td>F</td>\n",
       "      <td>75</td>\n",
       "      <td>100000.0</td>\n",
       "      <td>20170509</td>\n",
       "    </tr>\n",
       "    <tr>\n",
       "      <th>4</th>\n",
       "      <td>a03223e636434f42ac4c3df47e8bac43</td>\n",
       "      <td>None</td>\n",
       "      <td>118</td>\n",
       "      <td>NaN</td>\n",
       "      <td>20170804</td>\n",
       "    </tr>\n",
       "    <tr>\n",
       "      <th>...</th>\n",
       "      <td>...</td>\n",
       "      <td>...</td>\n",
       "      <td>...</td>\n",
       "      <td>...</td>\n",
       "      <td>...</td>\n",
       "    </tr>\n",
       "    <tr>\n",
       "      <th>16995</th>\n",
       "      <td>6d5f3a774f3d4714ab0c092238f3a1d7</td>\n",
       "      <td>F</td>\n",
       "      <td>45</td>\n",
       "      <td>54000.0</td>\n",
       "      <td>20180604</td>\n",
       "    </tr>\n",
       "    <tr>\n",
       "      <th>16996</th>\n",
       "      <td>2cb4f97358b841b9a9773a7aa05a9d77</td>\n",
       "      <td>M</td>\n",
       "      <td>61</td>\n",
       "      <td>72000.0</td>\n",
       "      <td>20180713</td>\n",
       "    </tr>\n",
       "    <tr>\n",
       "      <th>16997</th>\n",
       "      <td>01d26f638c274aa0b965d24cefe3183f</td>\n",
       "      <td>M</td>\n",
       "      <td>49</td>\n",
       "      <td>73000.0</td>\n",
       "      <td>20170126</td>\n",
       "    </tr>\n",
       "    <tr>\n",
       "      <th>16998</th>\n",
       "      <td>9dc1421481194dcd9400aec7c9ae6366</td>\n",
       "      <td>F</td>\n",
       "      <td>83</td>\n",
       "      <td>50000.0</td>\n",
       "      <td>20160307</td>\n",
       "    </tr>\n",
       "    <tr>\n",
       "      <th>16999</th>\n",
       "      <td>e4052622e5ba45a8b96b59aba68cf068</td>\n",
       "      <td>F</td>\n",
       "      <td>62</td>\n",
       "      <td>82000.0</td>\n",
       "      <td>20170722</td>\n",
       "    </tr>\n",
       "  </tbody>\n",
       "</table>\n",
       "<p>17000 rows × 5 columns</p>\n",
       "</div>"
      ],
      "text/plain": [
       "                                cust_id gender  age    income  membership_dt\n",
       "0      68be06ca386d4c31939f3a4f0e3dd783   None  118       NaN       20170212\n",
       "1      0610b486422d4921ae7d2bf64640c50b      F   55  112000.0       20170715\n",
       "2      38fe809add3b4fcf9315a9694bb96ff5   None  118       NaN       20180712\n",
       "3      78afa995795e4d85b5d9ceeca43f5fef      F   75  100000.0       20170509\n",
       "4      a03223e636434f42ac4c3df47e8bac43   None  118       NaN       20170804\n",
       "...                                 ...    ...  ...       ...            ...\n",
       "16995  6d5f3a774f3d4714ab0c092238f3a1d7      F   45   54000.0       20180604\n",
       "16996  2cb4f97358b841b9a9773a7aa05a9d77      M   61   72000.0       20180713\n",
       "16997  01d26f638c274aa0b965d24cefe3183f      M   49   73000.0       20170126\n",
       "16998  9dc1421481194dcd9400aec7c9ae6366      F   83   50000.0       20160307\n",
       "16999  e4052622e5ba45a8b96b59aba68cf068      F   62   82000.0       20170722\n",
       "\n",
       "[17000 rows x 5 columns]"
      ]
     },
     "execution_count": 14,
     "metadata": {},
     "output_type": "execute_result"
    }
   ],
   "source": [
    "# read in the json files\n",
    "profile = pd.read_json('data/profile.json', orient='records', lines=True)\n",
    "# Rename column \n",
    "profile.rename(columns={'id': 'cust_id', 'became_member_on': 'membership_dt'}, inplace=True)\n",
    "# Rearrange column order\n",
    "profile = profile[['cust_id', 'gender', 'age', 'income', 'membership_dt']]\n",
    "profile"
   ]
  },
  {
   "cell_type": "code",
   "execution_count": 15,
   "metadata": {},
   "outputs": [
    {
     "data": {
      "text/plain": [
       "(17000, 5)"
      ]
     },
     "execution_count": 15,
     "metadata": {},
     "output_type": "execute_result"
    }
   ],
   "source": [
    "profile.shape"
   ]
  },
  {
   "cell_type": "code",
   "execution_count": 16,
   "metadata": {},
   "outputs": [
    {
     "name": "stdout",
     "output_type": "stream",
     "text": [
      "<class 'pandas.core.frame.DataFrame'>\n",
      "RangeIndex: 17000 entries, 0 to 16999\n",
      "Data columns (total 5 columns):\n",
      " #   Column         Non-Null Count  Dtype  \n",
      "---  ------         --------------  -----  \n",
      " 0   cust_id        17000 non-null  object \n",
      " 1   gender         14825 non-null  object \n",
      " 2   age            17000 non-null  int64  \n",
      " 3   income         14825 non-null  float64\n",
      " 4   membership_dt  17000 non-null  int64  \n",
      "dtypes: float64(1), int64(2), object(2)\n",
      "memory usage: 664.2+ KB\n"
     ]
    }
   ],
   "source": [
    "# Data general info\n",
    "profile.info()"
   ]
  },
  {
   "cell_type": "code",
   "execution_count": 17,
   "metadata": {},
   "outputs": [
    {
     "data": {
      "text/plain": [
       "cust_id             0\n",
       "gender           2175\n",
       "age                 0\n",
       "income           2175\n",
       "membership_dt       0\n",
       "dtype: int64"
      ]
     },
     "execution_count": 17,
     "metadata": {},
     "output_type": "execute_result"
    }
   ],
   "source": [
    "# View missing values\n",
    "profile.isnull().sum()"
   ]
  },
  {
   "cell_type": "code",
   "execution_count": 18,
   "metadata": {},
   "outputs": [
    {
     "data": {
      "text/plain": [
       "0"
      ]
     },
     "execution_count": 18,
     "metadata": {},
     "output_type": "execute_result"
    }
   ],
   "source": [
    "# Check for duplicates\n",
    "profile.columns.duplicated().sum()"
   ]
  },
  {
   "cell_type": "markdown",
   "metadata": {},
   "source": [
    "## Data Cleansing"
   ]
  },
  {
   "cell_type": "markdown",
   "metadata": {},
   "source": [
    "### Gender"
   ]
  },
  {
   "cell_type": "code",
   "execution_count": 19,
   "metadata": {},
   "outputs": [
    {
     "data": {
      "text/plain": [
       "M    8484\n",
       "F    6129\n",
       "O     212\n",
       "Name: gender, dtype: int64"
      ]
     },
     "execution_count": 19,
     "metadata": {},
     "output_type": "execute_result"
    }
   ],
   "source": [
    "# View gender\n",
    "profile.gender.value_counts()\n",
    "# Remove 'O' as there is only small number of them compared to M & F"
   ]
  },
  {
   "cell_type": "code",
   "execution_count": 20,
   "metadata": {},
   "outputs": [],
   "source": [
    "# Remove 'O' as there is only small number of them compared to M & F\n",
    "profile = profile[profile['gender'] != 'O']"
   ]
  },
  {
   "cell_type": "markdown",
   "metadata": {},
   "source": [
    "### Age"
   ]
  },
  {
   "cell_type": "code",
   "execution_count": 21,
   "metadata": {
    "scrolled": true
   },
   "outputs": [
    {
     "data": {
      "text/plain": [
       "18       70\n",
       "19      135\n",
       "20      131\n",
       "21      137\n",
       "22      130\n",
       "23      126\n",
       "24      138\n",
       "25      135\n",
       "26      155\n",
       "27      139\n",
       "28      134\n",
       "29      128\n",
       "30      129\n",
       "31      111\n",
       "32      136\n",
       "33      150\n",
       "34      145\n",
       "35      116\n",
       "36      174\n",
       "37      196\n",
       "38      170\n",
       "39      176\n",
       "40      197\n",
       "41      186\n",
       "42      223\n",
       "43      211\n",
       "44      191\n",
       "45      230\n",
       "46      210\n",
       "47      226\n",
       "48      284\n",
       "49      311\n",
       "50      283\n",
       "51      357\n",
       "52      344\n",
       "53      364\n",
       "54      356\n",
       "55      342\n",
       "56      336\n",
       "57      348\n",
       "58      401\n",
       "59      354\n",
       "60      325\n",
       "61      306\n",
       "62      315\n",
       "63      335\n",
       "64      308\n",
       "65      279\n",
       "66      280\n",
       "67      309\n",
       "68      255\n",
       "69      240\n",
       "70      249\n",
       "71      228\n",
       "72      190\n",
       "73      203\n",
       "74      190\n",
       "75      157\n",
       "76      152\n",
       "77      137\n",
       "78      135\n",
       "79      116\n",
       "80      115\n",
       "81      116\n",
       "82      103\n",
       "83      102\n",
       "84       81\n",
       "85       69\n",
       "86       54\n",
       "87       66\n",
       "88       64\n",
       "89       51\n",
       "90       51\n",
       "91       47\n",
       "92       39\n",
       "93       29\n",
       "94       33\n",
       "95       22\n",
       "96        8\n",
       "97       13\n",
       "98        5\n",
       "99        5\n",
       "100      11\n",
       "101       5\n",
       "118    2175\n",
       "Name: age, dtype: int64"
      ]
     },
     "execution_count": 21,
     "metadata": {},
     "output_type": "execute_result"
    }
   ],
   "source": [
    "# View age\n",
    "profile.age.value_counts().sort_index()"
   ]
  },
  {
   "cell_type": "code",
   "execution_count": 22,
   "metadata": {},
   "outputs": [
    {
     "data": {
      "text/plain": [
       "cust_id          2175\n",
       "gender              0\n",
       "age              2175\n",
       "income              0\n",
       "membership_dt    2175\n",
       "dtype: int64"
      ]
     },
     "execution_count": 22,
     "metadata": {},
     "output_type": "execute_result"
    }
   ],
   "source": [
    "# Check customer aged 118\n",
    "profile[profile['age'] == 118].count()\n",
    "# These customers have missing values for gender and income\n",
    "# Remove these customers as there is not much information to learn from"
   ]
  },
  {
   "cell_type": "code",
   "execution_count": 23,
   "metadata": {},
   "outputs": [
    {
     "data": {
      "text/plain": [
       "<AxesSubplot:>"
      ]
     },
     "execution_count": 23,
     "metadata": {},
     "output_type": "execute_result"
    },
    {
     "data": {
      "image/png": "[encoded data removed]",
      "text/plain": [
       "<Figure size 432x288 with 1 Axes>"
      ]
     },
     "metadata": {
      "needs_background": "light"
     },
     "output_type": "display_data"
    }
   ],
   "source": [
    "# Remove age == 118\n",
    "profile = profile[profile['age'] != 118]\n",
    "profile.age.hist(bins=10)"
   ]
  },
  {
   "cell_type": "code",
   "execution_count": 24,
   "metadata": {},
   "outputs": [
    {
     "data": {
      "text/plain": [
       "d_50_60         3485\n",
       "e_60_70         2952\n",
       "f_70_&_above    2846\n",
       "c_40_50         2269\n",
       "a_below_30      1558\n",
       "b_30_40         1503\n",
       "Name: age_grp, dtype: int64"
      ]
     },
     "execution_count": 24,
     "metadata": {},
     "output_type": "execute_result"
    }
   ],
   "source": [
    "# Age group\n",
    "def age_grp(x):\n",
    "    if (x < 30):\n",
    "        return ('a_below_30')\n",
    "    elif (x >= 30) & (x < 40):\n",
    "        return ('b_30_40')\n",
    "    elif (x >= 40) & (x < 50):\n",
    "        return ('c_40_50')\n",
    "    elif (x >= 50) & (x < 60):\n",
    "        return ('d_50_60')\n",
    "    elif (x >= 60) & (x < 70):\n",
    "        return ('e_60_70')\n",
    "    elif (x >= 70):\n",
    "        return ('f_70_&_above')\n",
    "    else:\n",
    "        return ('Error')\n",
    "    \n",
    "profile['age_grp'] = profile['age'].apply(age_grp)\n",
    "profile['age_grp'].value_counts()"
   ]
  },
  {
   "cell_type": "markdown",
   "metadata": {},
   "source": [
    "### Income"
   ]
  },
  {
   "cell_type": "code",
   "execution_count": 25,
   "metadata": {},
   "outputs": [
    {
     "data": {
      "text/plain": [
       "count    14613.00\n",
       "mean     65435.71\n",
       "std      21633.52\n",
       "min      30000.00\n",
       "25%      49000.00\n",
       "50%      64000.00\n",
       "75%      80000.00\n",
       "max     120000.00\n",
       "Name: income, dtype: float64"
      ]
     },
     "execution_count": 25,
     "metadata": {},
     "output_type": "execute_result"
    }
   ],
   "source": [
    "# View income distribution\n",
    "pd.options.display.float_format = \"{:.2f}\".format\n",
    "profile.income.describe()"
   ]
  },
  {
   "cell_type": "code",
   "execution_count": 26,
   "metadata": {},
   "outputs": [
    {
     "data": {
      "text/plain": [
       "<AxesSubplot:>"
      ]
     },
     "execution_count": 26,
     "metadata": {},
     "output_type": "execute_result"
    },
    {
     "data": {
      "image/png": "[encoded data removed]",
      "text/plain": [
       "<Figure size 432x288 with 1 Axes>"
      ]
     },
     "metadata": {
      "needs_background": "light"
     },
     "output_type": "display_data"
    }
   ],
   "source": [
    "# View income distribution\n",
    "profile.income.hist(bins=10)"
   ]
  },
  {
   "cell_type": "code",
   "execution_count": 27,
   "metadata": {},
   "outputs": [
    {
     "data": {
      "text/plain": [
       "b_50k_75k         6348\n",
       "a_below_50k       3731\n",
       "c_75k_100k        3443\n",
       "d_100k_&_above    1091\n",
       "Name: income_grp, dtype: int64"
      ]
     },
     "execution_count": 27,
     "metadata": {},
     "output_type": "execute_result"
    }
   ],
   "source": [
    "# Income group\n",
    "def income_grp(x):\n",
    "     if (x < 50000):\n",
    "        return ('a_below_50k')\n",
    "     elif (x >= 50000) & (x < 75000):\n",
    "        return ('b_50k_75k')\n",
    "     elif (x >= 75000) & (x < 100000):\n",
    "        return ('c_75k_100k')\n",
    "     elif (x >= 100000):\n",
    "        return ('d_100k_&_above')\n",
    "     else:\n",
    "        return ('Error')\n",
    "    \n",
    "profile['income_grp'] = profile['income'].apply(income_grp)\n",
    "profile['income_grp'].value_counts()"
   ]
  },
  {
   "cell_type": "markdown",
   "metadata": {},
   "source": [
    "### Membership Date"
   ]
  },
  {
   "cell_type": "code",
   "execution_count": 28,
   "metadata": {},
   "outputs": [
    {
     "data": {
      "text/html": [
       "<div>\n",
       "<style scoped>\n",
       "    .dataframe tbody tr th:only-of-type {\n",
       "        vertical-align: middle;\n",
       "    }\n",
       "\n",
       "    .dataframe tbody tr th {\n",
       "        vertical-align: top;\n",
       "    }\n",
       "\n",
       "    .dataframe thead th {\n",
       "        text-align: right;\n",
       "    }\n",
       "</style>\n",
       "<table border=\"1\" class=\"dataframe\">\n",
       "  <thead>\n",
       "    <tr style=\"text-align: right;\">\n",
       "      <th></th>\n",
       "      <th>cust_id</th>\n",
       "      <th>gender</th>\n",
       "      <th>age</th>\n",
       "      <th>income</th>\n",
       "      <th>membership_dt</th>\n",
       "      <th>age_grp</th>\n",
       "      <th>income_grp</th>\n",
       "      <th>membership_year</th>\n",
       "      <th>membership_days</th>\n",
       "    </tr>\n",
       "  </thead>\n",
       "  <tbody>\n",
       "    <tr>\n",
       "      <th>1</th>\n",
       "      <td>0610b486422d4921ae7d2bf64640c50b</td>\n",
       "      <td>F</td>\n",
       "      <td>55</td>\n",
       "      <td>112000.00</td>\n",
       "      <td>2017-07-15</td>\n",
       "      <td>d_50_60</td>\n",
       "      <td>d_100k_&amp;_above</td>\n",
       "      <td>2017</td>\n",
       "      <td>1706</td>\n",
       "    </tr>\n",
       "    <tr>\n",
       "      <th>3</th>\n",
       "      <td>78afa995795e4d85b5d9ceeca43f5fef</td>\n",
       "      <td>F</td>\n",
       "      <td>75</td>\n",
       "      <td>100000.00</td>\n",
       "      <td>2017-05-09</td>\n",
       "      <td>f_70_&amp;_above</td>\n",
       "      <td>d_100k_&amp;_above</td>\n",
       "      <td>2017</td>\n",
       "      <td>1773</td>\n",
       "    </tr>\n",
       "    <tr>\n",
       "      <th>5</th>\n",
       "      <td>e2127556f4f64592b11af22de27a7932</td>\n",
       "      <td>M</td>\n",
       "      <td>68</td>\n",
       "      <td>70000.00</td>\n",
       "      <td>2018-04-26</td>\n",
       "      <td>e_60_70</td>\n",
       "      <td>b_50k_75k</td>\n",
       "      <td>2018</td>\n",
       "      <td>1421</td>\n",
       "    </tr>\n",
       "    <tr>\n",
       "      <th>8</th>\n",
       "      <td>389bc3fa690240e798340f5a15918d5c</td>\n",
       "      <td>M</td>\n",
       "      <td>65</td>\n",
       "      <td>53000.00</td>\n",
       "      <td>2018-02-09</td>\n",
       "      <td>e_60_70</td>\n",
       "      <td>b_50k_75k</td>\n",
       "      <td>2018</td>\n",
       "      <td>1497</td>\n",
       "    </tr>\n",
       "    <tr>\n",
       "      <th>12</th>\n",
       "      <td>2eeac8d8feae4a8cad5a6af0499a211d</td>\n",
       "      <td>M</td>\n",
       "      <td>58</td>\n",
       "      <td>51000.00</td>\n",
       "      <td>2017-11-11</td>\n",
       "      <td>d_50_60</td>\n",
       "      <td>b_50k_75k</td>\n",
       "      <td>2017</td>\n",
       "      <td>1587</td>\n",
       "    </tr>\n",
       "    <tr>\n",
       "      <th>...</th>\n",
       "      <td>...</td>\n",
       "      <td>...</td>\n",
       "      <td>...</td>\n",
       "      <td>...</td>\n",
       "      <td>...</td>\n",
       "      <td>...</td>\n",
       "      <td>...</td>\n",
       "      <td>...</td>\n",
       "      <td>...</td>\n",
       "    </tr>\n",
       "    <tr>\n",
       "      <th>16995</th>\n",
       "      <td>6d5f3a774f3d4714ab0c092238f3a1d7</td>\n",
       "      <td>F</td>\n",
       "      <td>45</td>\n",
       "      <td>54000.00</td>\n",
       "      <td>2018-06-04</td>\n",
       "      <td>c_40_50</td>\n",
       "      <td>b_50k_75k</td>\n",
       "      <td>2018</td>\n",
       "      <td>1382</td>\n",
       "    </tr>\n",
       "    <tr>\n",
       "      <th>16996</th>\n",
       "      <td>2cb4f97358b841b9a9773a7aa05a9d77</td>\n",
       "      <td>M</td>\n",
       "      <td>61</td>\n",
       "      <td>72000.00</td>\n",
       "      <td>2018-07-13</td>\n",
       "      <td>e_60_70</td>\n",
       "      <td>b_50k_75k</td>\n",
       "      <td>2018</td>\n",
       "      <td>1343</td>\n",
       "    </tr>\n",
       "    <tr>\n",
       "      <th>16997</th>\n",
       "      <td>01d26f638c274aa0b965d24cefe3183f</td>\n",
       "      <td>M</td>\n",
       "      <td>49</td>\n",
       "      <td>73000.00</td>\n",
       "      <td>2017-01-26</td>\n",
       "      <td>c_40_50</td>\n",
       "      <td>b_50k_75k</td>\n",
       "      <td>2017</td>\n",
       "      <td>1876</td>\n",
       "    </tr>\n",
       "    <tr>\n",
       "      <th>16998</th>\n",
       "      <td>9dc1421481194dcd9400aec7c9ae6366</td>\n",
       "      <td>F</td>\n",
       "      <td>83</td>\n",
       "      <td>50000.00</td>\n",
       "      <td>2016-03-07</td>\n",
       "      <td>f_70_&amp;_above</td>\n",
       "      <td>b_50k_75k</td>\n",
       "      <td>2016</td>\n",
       "      <td>2201</td>\n",
       "    </tr>\n",
       "    <tr>\n",
       "      <th>16999</th>\n",
       "      <td>e4052622e5ba45a8b96b59aba68cf068</td>\n",
       "      <td>F</td>\n",
       "      <td>62</td>\n",
       "      <td>82000.00</td>\n",
       "      <td>2017-07-22</td>\n",
       "      <td>e_60_70</td>\n",
       "      <td>c_75k_100k</td>\n",
       "      <td>2017</td>\n",
       "      <td>1699</td>\n",
       "    </tr>\n",
       "  </tbody>\n",
       "</table>\n",
       "<p>14613 rows × 9 columns</p>\n",
       "</div>"
      ],
      "text/plain": [
       "                                cust_id gender  age    income membership_dt       age_grp      income_grp  membership_year  membership_days\n",
       "1      0610b486422d4921ae7d2bf64640c50b      F   55 112000.00    2017-07-15       d_50_60  d_100k_&_above             2017             1706\n",
       "3      78afa995795e4d85b5d9ceeca43f5fef      F   75 100000.00    2017-05-09  f_70_&_above  d_100k_&_above             2017             1773\n",
       "5      e2127556f4f64592b11af22de27a7932      M   68  70000.00    2018-04-26       e_60_70       b_50k_75k             2018             1421\n",
       "8      389bc3fa690240e798340f5a15918d5c      M   65  53000.00    2018-02-09       e_60_70       b_50k_75k             2018             1497\n",
       "12     2eeac8d8feae4a8cad5a6af0499a211d      M   58  51000.00    2017-11-11       d_50_60       b_50k_75k             2017             1587\n",
       "...                                 ...    ...  ...       ...           ...           ...             ...              ...              ...\n",
       "16995  6d5f3a774f3d4714ab0c092238f3a1d7      F   45  54000.00    2018-06-04       c_40_50       b_50k_75k             2018             1382\n",
       "16996  2cb4f97358b841b9a9773a7aa05a9d77      M   61  72000.00    2018-07-13       e_60_70       b_50k_75k             2018             1343\n",
       "16997  01d26f638c274aa0b965d24cefe3183f      M   49  73000.00    2017-01-26       c_40_50       b_50k_75k             2017             1876\n",
       "16998  9dc1421481194dcd9400aec7c9ae6366      F   83  50000.00    2016-03-07  f_70_&_above       b_50k_75k             2016             2201\n",
       "16999  e4052622e5ba45a8b96b59aba68cf068      F   62  82000.00    2017-07-22       e_60_70      c_75k_100k             2017             1699\n",
       "\n",
       "[14613 rows x 9 columns]"
      ]
     },
     "execution_count": 28,
     "metadata": {},
     "output_type": "execute_result"
    }
   ],
   "source": [
    "# Date format\n",
    "profile['membership_dt'] = pd.to_datetime(profile['membership_dt'], format='%Y%m%d')\n",
    "\n",
    "# Membership year\n",
    "profile['membership_year'] = profile['membership_dt'].dt.year\n",
    "\n",
    "# Membership period\n",
    "profile['membership_days'] = datetime.datetime.today().date() - profile['membership_dt'].dt.date\n",
    "\n",
    "# removing the 'days' unit\n",
    "profile['membership_days'] = profile['membership_days'].dt.days\n",
    "\n",
    "profile"
   ]
  },
  {
   "cell_type": "code",
   "execution_count": 29,
   "metadata": {},
   "outputs": [
    {
     "data": {
      "text/plain": [
       "<AxesSubplot:>"
      ]
     },
     "execution_count": 29,
     "metadata": {},
     "output_type": "execute_result"
    },
    {
     "data": {
      "image/png": "[encoded data removed]",
      "text/plain": [
       "<Figure size 432x288 with 1 Axes>"
      ]
     },
     "metadata": {
      "needs_background": "light"
     },
     "output_type": "display_data"
    }
   ],
   "source": [
    "# View distribution\n",
    "profile.membership_days.hist(bins=10)"
   ]
  },
  {
   "cell_type": "code",
   "execution_count": 30,
   "metadata": {},
   "outputs": [
    {
     "data": {
      "text/plain": [
       "count   14613.00\n",
       "mean     1852.99\n",
       "std       419.68\n",
       "min      1330.00\n",
       "25%      1538.00\n",
       "50%      1688.00\n",
       "75%      2128.00\n",
       "max      3153.00\n",
       "Name: membership_days, dtype: float64"
      ]
     },
     "execution_count": 30,
     "metadata": {},
     "output_type": "execute_result"
    }
   ],
   "source": [
    "# View distribution\n",
    "profile.membership_days.describe()"
   ]
  },
  {
   "cell_type": "code",
   "execution_count": 31,
   "metadata": {},
   "outputs": [
    {
     "data": {
      "text/plain": [
       "b_4_6_years            7204\n",
       "a_4years_or_less       5160\n",
       "c_More_than_6_years    2249\n",
       "Name: membership_duration, dtype: int64"
      ]
     },
     "execution_count": 31,
     "metadata": {},
     "output_type": "execute_result"
    }
   ],
   "source": [
    "# Membership duration\n",
    "def membership_duration(x):\n",
    "    if (x <= 1600):\n",
    "        return ('a_4years_or_less')\n",
    "    elif (x > 1600) & (x <= 2300):\n",
    "        return ('b_4_6_years')\n",
    "    elif (x > 2300):\n",
    "        return ('c_More_than_6_years')\n",
    "    else:\n",
    "        return ('Error')\n",
    "    \n",
    "profile['membership_duration'] = profile['membership_days'].apply(membership_duration)\n",
    "profile['membership_duration'].value_counts()"
   ]
  },
  {
   "cell_type": "code",
   "execution_count": 33,
   "metadata": {
    "scrolled": false
   },
   "outputs": [
    {
     "data": {
      "text/html": [
       "<div>\n",
       "<style scoped>\n",
       "    .dataframe tbody tr th:only-of-type {\n",
       "        vertical-align: middle;\n",
       "    }\n",
       "\n",
       "    .dataframe tbody tr th {\n",
       "        vertical-align: top;\n",
       "    }\n",
       "\n",
       "    .dataframe thead th {\n",
       "        text-align: right;\n",
       "    }\n",
       "</style>\n",
       "<table border=\"1\" class=\"dataframe\">\n",
       "  <thead>\n",
       "    <tr style=\"text-align: right;\">\n",
       "      <th></th>\n",
       "      <th>cust_id</th>\n",
       "      <th>gender</th>\n",
       "      <th>age</th>\n",
       "      <th>income</th>\n",
       "      <th>membership_dt</th>\n",
       "      <th>age_grp</th>\n",
       "      <th>income_grp</th>\n",
       "      <th>membership_year</th>\n",
       "      <th>membership_days</th>\n",
       "      <th>membership_duration</th>\n",
       "    </tr>\n",
       "  </thead>\n",
       "  <tbody>\n",
       "    <tr>\n",
       "      <th>1</th>\n",
       "      <td>0610b486422d4921ae7d2bf64640c50b</td>\n",
       "      <td>F</td>\n",
       "      <td>55</td>\n",
       "      <td>112000.00</td>\n",
       "      <td>2017-07-15</td>\n",
       "      <td>d_50_60</td>\n",
       "      <td>d_100k_&amp;_above</td>\n",
       "      <td>2017</td>\n",
       "      <td>1706</td>\n",
       "      <td>b_4_6_years</td>\n",
       "    </tr>\n",
       "    <tr>\n",
       "      <th>3</th>\n",
       "      <td>78afa995795e4d85b5d9ceeca43f5fef</td>\n",
       "      <td>F</td>\n",
       "      <td>75</td>\n",
       "      <td>100000.00</td>\n",
       "      <td>2017-05-09</td>\n",
       "      <td>f_70_&amp;_above</td>\n",
       "      <td>d_100k_&amp;_above</td>\n",
       "      <td>2017</td>\n",
       "      <td>1773</td>\n",
       "      <td>b_4_6_years</td>\n",
       "    </tr>\n",
       "    <tr>\n",
       "      <th>5</th>\n",
       "      <td>e2127556f4f64592b11af22de27a7932</td>\n",
       "      <td>M</td>\n",
       "      <td>68</td>\n",
       "      <td>70000.00</td>\n",
       "      <td>2018-04-26</td>\n",
       "      <td>e_60_70</td>\n",
       "      <td>b_50k_75k</td>\n",
       "      <td>2018</td>\n",
       "      <td>1421</td>\n",
       "      <td>a_4years_or_less</td>\n",
       "    </tr>\n",
       "    <tr>\n",
       "      <th>8</th>\n",
       "      <td>389bc3fa690240e798340f5a15918d5c</td>\n",
       "      <td>M</td>\n",
       "      <td>65</td>\n",
       "      <td>53000.00</td>\n",
       "      <td>2018-02-09</td>\n",
       "      <td>e_60_70</td>\n",
       "      <td>b_50k_75k</td>\n",
       "      <td>2018</td>\n",
       "      <td>1497</td>\n",
       "      <td>a_4years_or_less</td>\n",
       "    </tr>\n",
       "    <tr>\n",
       "      <th>12</th>\n",
       "      <td>2eeac8d8feae4a8cad5a6af0499a211d</td>\n",
       "      <td>M</td>\n",
       "      <td>58</td>\n",
       "      <td>51000.00</td>\n",
       "      <td>2017-11-11</td>\n",
       "      <td>d_50_60</td>\n",
       "      <td>b_50k_75k</td>\n",
       "      <td>2017</td>\n",
       "      <td>1587</td>\n",
       "      <td>a_4years_or_less</td>\n",
       "    </tr>\n",
       "    <tr>\n",
       "      <th>...</th>\n",
       "      <td>...</td>\n",
       "      <td>...</td>\n",
       "      <td>...</td>\n",
       "      <td>...</td>\n",
       "      <td>...</td>\n",
       "      <td>...</td>\n",
       "      <td>...</td>\n",
       "      <td>...</td>\n",
       "      <td>...</td>\n",
       "      <td>...</td>\n",
       "    </tr>\n",
       "    <tr>\n",
       "      <th>16995</th>\n",
       "      <td>6d5f3a774f3d4714ab0c092238f3a1d7</td>\n",
       "      <td>F</td>\n",
       "      <td>45</td>\n",
       "      <td>54000.00</td>\n",
       "      <td>2018-06-04</td>\n",
       "      <td>c_40_50</td>\n",
       "      <td>b_50k_75k</td>\n",
       "      <td>2018</td>\n",
       "      <td>1382</td>\n",
       "      <td>a_4years_or_less</td>\n",
       "    </tr>\n",
       "    <tr>\n",
       "      <th>16996</th>\n",
       "      <td>2cb4f97358b841b9a9773a7aa05a9d77</td>\n",
       "      <td>M</td>\n",
       "      <td>61</td>\n",
       "      <td>72000.00</td>\n",
       "      <td>2018-07-13</td>\n",
       "      <td>e_60_70</td>\n",
       "      <td>b_50k_75k</td>\n",
       "      <td>2018</td>\n",
       "      <td>1343</td>\n",
       "      <td>a_4years_or_less</td>\n",
       "    </tr>\n",
       "    <tr>\n",
       "      <th>16997</th>\n",
       "      <td>01d26f638c274aa0b965d24cefe3183f</td>\n",
       "      <td>M</td>\n",
       "      <td>49</td>\n",
       "      <td>73000.00</td>\n",
       "      <td>2017-01-26</td>\n",
       "      <td>c_40_50</td>\n",
       "      <td>b_50k_75k</td>\n",
       "      <td>2017</td>\n",
       "      <td>1876</td>\n",
       "      <td>b_4_6_years</td>\n",
       "    </tr>\n",
       "    <tr>\n",
       "      <th>16998</th>\n",
       "      <td>9dc1421481194dcd9400aec7c9ae6366</td>\n",
       "      <td>F</td>\n",
       "      <td>83</td>\n",
       "      <td>50000.00</td>\n",
       "      <td>2016-03-07</td>\n",
       "      <td>f_70_&amp;_above</td>\n",
       "      <td>b_50k_75k</td>\n",
       "      <td>2016</td>\n",
       "      <td>2201</td>\n",
       "      <td>b_4_6_years</td>\n",
       "    </tr>\n",
       "    <tr>\n",
       "      <th>16999</th>\n",
       "      <td>e4052622e5ba45a8b96b59aba68cf068</td>\n",
       "      <td>F</td>\n",
       "      <td>62</td>\n",
       "      <td>82000.00</td>\n",
       "      <td>2017-07-22</td>\n",
       "      <td>e_60_70</td>\n",
       "      <td>c_75k_100k</td>\n",
       "      <td>2017</td>\n",
       "      <td>1699</td>\n",
       "      <td>b_4_6_years</td>\n",
       "    </tr>\n",
       "  </tbody>\n",
       "</table>\n",
       "<p>14613 rows × 10 columns</p>\n",
       "</div>"
      ],
      "text/plain": [
       "                                cust_id gender  age    income membership_dt       age_grp      income_grp  membership_year  membership_days membership_duration\n",
       "1      0610b486422d4921ae7d2bf64640c50b      F   55 112000.00    2017-07-15       d_50_60  d_100k_&_above             2017             1706         b_4_6_years\n",
       "3      78afa995795e4d85b5d9ceeca43f5fef      F   75 100000.00    2017-05-09  f_70_&_above  d_100k_&_above             2017             1773         b_4_6_years\n",
       "5      e2127556f4f64592b11af22de27a7932      M   68  70000.00    2018-04-26       e_60_70       b_50k_75k             2018             1421    a_4years_or_less\n",
       "8      389bc3fa690240e798340f5a15918d5c      M   65  53000.00    2018-02-09       e_60_70       b_50k_75k             2018             1497    a_4years_or_less\n",
       "12     2eeac8d8feae4a8cad5a6af0499a211d      M   58  51000.00    2017-11-11       d_50_60       b_50k_75k             2017             1587    a_4years_or_less\n",
       "...                                 ...    ...  ...       ...           ...           ...             ...              ...              ...                 ...\n",
       "16995  6d5f3a774f3d4714ab0c092238f3a1d7      F   45  54000.00    2018-06-04       c_40_50       b_50k_75k             2018             1382    a_4years_or_less\n",
       "16996  2cb4f97358b841b9a9773a7aa05a9d77      M   61  72000.00    2018-07-13       e_60_70       b_50k_75k             2018             1343    a_4years_or_less\n",
       "16997  01d26f638c274aa0b965d24cefe3183f      M   49  73000.00    2017-01-26       c_40_50       b_50k_75k             2017             1876         b_4_6_years\n",
       "16998  9dc1421481194dcd9400aec7c9ae6366      F   83  50000.00    2016-03-07  f_70_&_above       b_50k_75k             2016             2201         b_4_6_years\n",
       "16999  e4052622e5ba45a8b96b59aba68cf068      F   62  82000.00    2017-07-22       e_60_70      c_75k_100k             2017             1699         b_4_6_years\n",
       "\n",
       "[14613 rows x 10 columns]"
      ]
     },
     "execution_count": 33,
     "metadata": {},
     "output_type": "execute_result"
    }
   ],
   "source": [
    "profile"
   ]
  },
  {
   "cell_type": "markdown",
   "metadata": {},
   "source": [
    "# Transcript Data"
   ]
  },
  {
   "cell_type": "markdown",
   "metadata": {},
   "source": [
    "## Import Data"
   ]
  },
  {
   "cell_type": "code",
   "execution_count": 32,
   "metadata": {},
   "outputs": [
    {
     "data": {
      "text/html": [
       "<div>\n",
       "<style scoped>\n",
       "    .dataframe tbody tr th:only-of-type {\n",
       "        vertical-align: middle;\n",
       "    }\n",
       "\n",
       "    .dataframe tbody tr th {\n",
       "        vertical-align: top;\n",
       "    }\n",
       "\n",
       "    .dataframe thead th {\n",
       "        text-align: right;\n",
       "    }\n",
       "</style>\n",
       "<table border=\"1\" class=\"dataframe\">\n",
       "  <thead>\n",
       "    <tr style=\"text-align: right;\">\n",
       "      <th></th>\n",
       "      <th>cust_id</th>\n",
       "      <th>event</th>\n",
       "      <th>value</th>\n",
       "      <th>time</th>\n",
       "    </tr>\n",
       "  </thead>\n",
       "  <tbody>\n",
       "    <tr>\n",
       "      <th>0</th>\n",
       "      <td>78afa995795e4d85b5d9ceeca43f5fef</td>\n",
       "      <td>offer received</td>\n",
       "      <td>{'offer id': '9b98b8c7a33c4b65b9aebfe6a799e6d9'}</td>\n",
       "      <td>0</td>\n",
       "    </tr>\n",
       "    <tr>\n",
       "      <th>1</th>\n",
       "      <td>a03223e636434f42ac4c3df47e8bac43</td>\n",
       "      <td>offer received</td>\n",
       "      <td>{'offer id': '0b1e1539f2cc45b7b9fa7c272da2e1d7'}</td>\n",
       "      <td>0</td>\n",
       "    </tr>\n",
       "    <tr>\n",
       "      <th>2</th>\n",
       "      <td>e2127556f4f64592b11af22de27a7932</td>\n",
       "      <td>offer received</td>\n",
       "      <td>{'offer id': '2906b810c7d4411798c6938adc9daaa5'}</td>\n",
       "      <td>0</td>\n",
       "    </tr>\n",
       "    <tr>\n",
       "      <th>3</th>\n",
       "      <td>8ec6ce2a7e7949b1bf142def7d0e0586</td>\n",
       "      <td>offer received</td>\n",
       "      <td>{'offer id': 'fafdcd668e3743c1bb461111dcafc2a4'}</td>\n",
       "      <td>0</td>\n",
       "    </tr>\n",
       "    <tr>\n",
       "      <th>4</th>\n",
       "      <td>68617ca6246f4fbc85e91a2a49552598</td>\n",
       "      <td>offer received</td>\n",
       "      <td>{'offer id': '4d5c57ea9a6940dd891ad53e9dbe8da0'}</td>\n",
       "      <td>0</td>\n",
       "    </tr>\n",
       "    <tr>\n",
       "      <th>...</th>\n",
       "      <td>...</td>\n",
       "      <td>...</td>\n",
       "      <td>...</td>\n",
       "      <td>...</td>\n",
       "    </tr>\n",
       "    <tr>\n",
       "      <th>306529</th>\n",
       "      <td>b3a1272bc9904337b331bf348c3e8c17</td>\n",
       "      <td>transaction</td>\n",
       "      <td>{'amount': 1.5899999999999999}</td>\n",
       "      <td>714</td>\n",
       "    </tr>\n",
       "    <tr>\n",
       "      <th>306530</th>\n",
       "      <td>68213b08d99a4ae1b0dcb72aebd9aa35</td>\n",
       "      <td>transaction</td>\n",
       "      <td>{'amount': 9.53}</td>\n",
       "      <td>714</td>\n",
       "    </tr>\n",
       "    <tr>\n",
       "      <th>306531</th>\n",
       "      <td>a00058cf10334a308c68e7631c529907</td>\n",
       "      <td>transaction</td>\n",
       "      <td>{'amount': 3.61}</td>\n",
       "      <td>714</td>\n",
       "    </tr>\n",
       "    <tr>\n",
       "      <th>306532</th>\n",
       "      <td>76ddbd6576844afe811f1a3c0fbb5bec</td>\n",
       "      <td>transaction</td>\n",
       "      <td>{'amount': 3.5300000000000002}</td>\n",
       "      <td>714</td>\n",
       "    </tr>\n",
       "    <tr>\n",
       "      <th>306533</th>\n",
       "      <td>c02b10e8752c4d8e9b73f918558531f7</td>\n",
       "      <td>transaction</td>\n",
       "      <td>{'amount': 4.05}</td>\n",
       "      <td>714</td>\n",
       "    </tr>\n",
       "  </tbody>\n",
       "</table>\n",
       "<p>306534 rows × 4 columns</p>\n",
       "</div>"
      ],
      "text/plain": [
       "                                 cust_id           event                                             value  time\n",
       "0       78afa995795e4d85b5d9ceeca43f5fef  offer received  {'offer id': '9b98b8c7a33c4b65b9aebfe6a799e6d9'}     0\n",
       "1       a03223e636434f42ac4c3df47e8bac43  offer received  {'offer id': '0b1e1539f2cc45b7b9fa7c272da2e1d7'}     0\n",
       "2       e2127556f4f64592b11af22de27a7932  offer received  {'offer id': '2906b810c7d4411798c6938adc9daaa5'}     0\n",
       "3       8ec6ce2a7e7949b1bf142def7d0e0586  offer received  {'offer id': 'fafdcd668e3743c1bb461111dcafc2a4'}     0\n",
       "4       68617ca6246f4fbc85e91a2a49552598  offer received  {'offer id': '4d5c57ea9a6940dd891ad53e9dbe8da0'}     0\n",
       "...                                  ...             ...                                               ...   ...\n",
       "306529  b3a1272bc9904337b331bf348c3e8c17     transaction                    {'amount': 1.5899999999999999}   714\n",
       "306530  68213b08d99a4ae1b0dcb72aebd9aa35     transaction                                  {'amount': 9.53}   714\n",
       "306531  a00058cf10334a308c68e7631c529907     transaction                                  {'amount': 3.61}   714\n",
       "306532  76ddbd6576844afe811f1a3c0fbb5bec     transaction                    {'amount': 3.5300000000000002}   714\n",
       "306533  c02b10e8752c4d8e9b73f918558531f7     transaction                                  {'amount': 4.05}   714\n",
       "\n",
       "[306534 rows x 4 columns]"
      ]
     },
     "execution_count": 32,
     "metadata": {},
     "output_type": "execute_result"
    }
   ],
   "source": [
    "# read in the json files\n",
    "transcript = pd.read_json('data/transcript.json', orient='records', lines=True)\n",
    "# Rename column \n",
    "transcript.rename(columns={'person': 'cust_id'}, inplace=True)\n",
    "transcript"
   ]
  },
  {
   "cell_type": "code",
   "execution_count": 33,
   "metadata": {},
   "outputs": [
    {
     "data": {
      "text/plain": [
       "(306534, 4)"
      ]
     },
     "execution_count": 33,
     "metadata": {},
     "output_type": "execute_result"
    }
   ],
   "source": [
    "# View shape\n",
    "transcript.shape"
   ]
  },
  {
   "cell_type": "code",
   "execution_count": 34,
   "metadata": {},
   "outputs": [
    {
     "name": "stdout",
     "output_type": "stream",
     "text": [
      "<class 'pandas.core.frame.DataFrame'>\n",
      "RangeIndex: 306534 entries, 0 to 306533\n",
      "Data columns (total 4 columns):\n",
      " #   Column   Non-Null Count   Dtype \n",
      "---  ------   --------------   ----- \n",
      " 0   cust_id  306534 non-null  object\n",
      " 1   event    306534 non-null  object\n",
      " 2   value    306534 non-null  object\n",
      " 3   time     306534 non-null  int64 \n",
      "dtypes: int64(1), object(3)\n",
      "memory usage: 9.4+ MB\n"
     ]
    }
   ],
   "source": [
    "# Data general info\n",
    "transcript.info()"
   ]
  },
  {
   "cell_type": "code",
   "execution_count": 35,
   "metadata": {},
   "outputs": [
    {
     "data": {
      "text/plain": [
       "cust_id    0\n",
       "event      0\n",
       "value      0\n",
       "time       0\n",
       "dtype: int64"
      ]
     },
     "execution_count": 35,
     "metadata": {},
     "output_type": "execute_result"
    }
   ],
   "source": [
    "# View missing values\n",
    "transcript.isnull().sum()"
   ]
  },
  {
   "cell_type": "code",
   "execution_count": 36,
   "metadata": {},
   "outputs": [
    {
     "data": {
      "text/plain": [
       "0"
      ]
     },
     "execution_count": 36,
     "metadata": {},
     "output_type": "execute_result"
    }
   ],
   "source": [
    "# Check for duplicates\n",
    "transcript.columns.duplicated().sum()"
   ]
  },
  {
   "cell_type": "markdown",
   "metadata": {},
   "source": [
    "## Data Cleansing"
   ]
  },
  {
   "cell_type": "markdown",
   "metadata": {},
   "source": [
    "### Event"
   ]
  },
  {
   "cell_type": "code",
   "execution_count": 37,
   "metadata": {},
   "outputs": [
    {
     "data": {
      "text/plain": [
       "transaction        138953\n",
       "offer received      76277\n",
       "offer viewed        57725\n",
       "offer completed     33579\n",
       "Name: event, dtype: int64"
      ]
     },
     "execution_count": 37,
     "metadata": {},
     "output_type": "execute_result"
    }
   ],
   "source": [
    "# View event\n",
    "transcript.event.value_counts()\n",
    "# Remove transaction event and offer received as I am only interested of participants with offer viewed and offer completed"
   ]
  },
  {
   "cell_type": "code",
   "execution_count": 38,
   "metadata": {},
   "outputs": [
    {
     "data": {
      "text/plain": [
       "offer viewed       57725\n",
       "offer completed    33579\n",
       "Name: event, dtype: int64"
      ]
     },
     "execution_count": 38,
     "metadata": {},
     "output_type": "execute_result"
    }
   ],
   "source": [
    "# Remove transaction event and offer received as I am only interested of participants with offer viewed\n",
    "transcript = transcript[transcript['event'].isin(['offer viewed', 'offer completed'])]\n",
    "transcript.event.value_counts()"
   ]
  },
  {
   "cell_type": "markdown",
   "metadata": {},
   "source": [
    "### Value"
   ]
  },
  {
   "cell_type": "code",
   "execution_count": 39,
   "metadata": {},
   "outputs": [
    {
     "data": {
      "text/plain": [
       "98608     {'offer_id': '9b98b8c7a33c4b65b9aebfe6a799e6d9...\n",
       "84734      {'offer id': '3f207df678b143eea3cee63160fa8bed'}\n",
       "136742     {'offer id': '9b98b8c7a33c4b65b9aebfe6a799e6d9'}\n",
       "261161    {'offer_id': '0b1e1539f2cc45b7b9fa7c272da2e1d7...\n",
       "28414     {'offer_id': 'ae264e3637204a6fb9bb56bc8210ddfd...\n",
       "164009     {'offer id': 'fafdcd668e3743c1bb461111dcafc2a4'}\n",
       "125571     {'offer id': '4d5c57ea9a6940dd891ad53e9dbe8da0'}\n",
       "296872    {'offer_id': '2906b810c7d4411798c6938adc9daaa5...\n",
       "217329     {'offer id': '2298d6c36e964ae4a3e7e9706d1fb8c2'}\n",
       "266369     {'offer id': '4d5c57ea9a6940dd891ad53e9dbe8da0'}\n",
       "Name: value, dtype: object"
      ]
     },
     "execution_count": 39,
     "metadata": {},
     "output_type": "execute_result"
    }
   ],
   "source": [
    "# View sample\n",
    "transcript.value.sample(10)"
   ]
  },
  {
   "cell_type": "code",
   "execution_count": 40,
   "metadata": {},
   "outputs": [
    {
     "data": {
      "text/plain": [
       "['offer id', 'offer_id', 'reward']"
      ]
     },
     "execution_count": 40,
     "metadata": {},
     "output_type": "execute_result"
    }
   ],
   "source": [
    "# View keys available in column 'value'\n",
    "keys = []\n",
    "for idx, row in transcript.iterrows():\n",
    "    for k in row['value']:\n",
    "        if k in keys:\n",
    "            continue\n",
    "        else:\n",
    "            keys.append(k)\n",
    "keys"
   ]
  },
  {
   "cell_type": "code",
   "execution_count": 41,
   "metadata": {},
   "outputs": [
    {
     "data": {
      "text/html": [
       "<div>\n",
       "<style scoped>\n",
       "    .dataframe tbody tr th:only-of-type {\n",
       "        vertical-align: middle;\n",
       "    }\n",
       "\n",
       "    .dataframe tbody tr th {\n",
       "        vertical-align: top;\n",
       "    }\n",
       "\n",
       "    .dataframe thead th {\n",
       "        text-align: right;\n",
       "    }\n",
       "</style>\n",
       "<table border=\"1\" class=\"dataframe\">\n",
       "  <thead>\n",
       "    <tr style=\"text-align: right;\">\n",
       "      <th></th>\n",
       "      <th>cust_id</th>\n",
       "      <th>event</th>\n",
       "      <th>time</th>\n",
       "      <th>offer_id</th>\n",
       "      <th>reward_received</th>\n",
       "    </tr>\n",
       "  </thead>\n",
       "  <tbody>\n",
       "    <tr>\n",
       "      <th>12650</th>\n",
       "      <td>389bc3fa690240e798340f5a15918d5c</td>\n",
       "      <td>offer viewed</td>\n",
       "      <td>0</td>\n",
       "      <td>f19421c1d4aa40978ebb69ca19b0e20d</td>\n",
       "      <td>0.00</td>\n",
       "    </tr>\n",
       "    <tr>\n",
       "      <th>12651</th>\n",
       "      <td>d1ede868e29245ea91818a903fec04c6</td>\n",
       "      <td>offer viewed</td>\n",
       "      <td>0</td>\n",
       "      <td>5a8bc65990b245e5a138643cd4eb9837</td>\n",
       "      <td>0.00</td>\n",
       "    </tr>\n",
       "    <tr>\n",
       "      <th>12652</th>\n",
       "      <td>102e9454054946fda62242d2e176fdce</td>\n",
       "      <td>offer viewed</td>\n",
       "      <td>0</td>\n",
       "      <td>4d5c57ea9a6940dd891ad53e9dbe8da0</td>\n",
       "      <td>0.00</td>\n",
       "    </tr>\n",
       "    <tr>\n",
       "      <th>12653</th>\n",
       "      <td>02c083884c7d45b39cc68e1314fec56c</td>\n",
       "      <td>offer viewed</td>\n",
       "      <td>0</td>\n",
       "      <td>ae264e3637204a6fb9bb56bc8210ddfd</td>\n",
       "      <td>0.00</td>\n",
       "    </tr>\n",
       "    <tr>\n",
       "      <th>12655</th>\n",
       "      <td>be8a5d1981a2458d90b255ddc7e0d174</td>\n",
       "      <td>offer viewed</td>\n",
       "      <td>0</td>\n",
       "      <td>5a8bc65990b245e5a138643cd4eb9837</td>\n",
       "      <td>0.00</td>\n",
       "    </tr>\n",
       "    <tr>\n",
       "      <th>...</th>\n",
       "      <td>...</td>\n",
       "      <td>...</td>\n",
       "      <td>...</td>\n",
       "      <td>...</td>\n",
       "      <td>...</td>\n",
       "    </tr>\n",
       "    <tr>\n",
       "      <th>306497</th>\n",
       "      <td>a6f84f4e976f44508c358cc9aba6d2b3</td>\n",
       "      <td>offer completed</td>\n",
       "      <td>714</td>\n",
       "      <td>2298d6c36e964ae4a3e7e9706d1fb8c2</td>\n",
       "      <td>3.00</td>\n",
       "    </tr>\n",
       "    <tr>\n",
       "      <th>306506</th>\n",
       "      <td>b895c57e8cd047a8872ce02aa54759d6</td>\n",
       "      <td>offer completed</td>\n",
       "      <td>714</td>\n",
       "      <td>fafdcd668e3743c1bb461111dcafc2a4</td>\n",
       "      <td>2.00</td>\n",
       "    </tr>\n",
       "    <tr>\n",
       "      <th>306507</th>\n",
       "      <td>8dda575c2a1d44b9ac8e8b07b93d1f8e</td>\n",
       "      <td>offer viewed</td>\n",
       "      <td>714</td>\n",
       "      <td>0b1e1539f2cc45b7b9fa7c272da2e1d7</td>\n",
       "      <td>0.00</td>\n",
       "    </tr>\n",
       "    <tr>\n",
       "      <th>306509</th>\n",
       "      <td>8431c16f8e1d440880db371a68f82dd0</td>\n",
       "      <td>offer completed</td>\n",
       "      <td>714</td>\n",
       "      <td>fafdcd668e3743c1bb461111dcafc2a4</td>\n",
       "      <td>2.00</td>\n",
       "    </tr>\n",
       "    <tr>\n",
       "      <th>306527</th>\n",
       "      <td>24f56b5e1849462093931b164eb803b5</td>\n",
       "      <td>offer completed</td>\n",
       "      <td>714</td>\n",
       "      <td>fafdcd668e3743c1bb461111dcafc2a4</td>\n",
       "      <td>2.00</td>\n",
       "    </tr>\n",
       "  </tbody>\n",
       "</table>\n",
       "<p>91304 rows × 5 columns</p>\n",
       "</div>"
      ],
      "text/plain": [
       "                                 cust_id            event  time                          offer_id  reward_received\n",
       "12650   389bc3fa690240e798340f5a15918d5c     offer viewed     0  f19421c1d4aa40978ebb69ca19b0e20d             0.00\n",
       "12651   d1ede868e29245ea91818a903fec04c6     offer viewed     0  5a8bc65990b245e5a138643cd4eb9837             0.00\n",
       "12652   102e9454054946fda62242d2e176fdce     offer viewed     0  4d5c57ea9a6940dd891ad53e9dbe8da0             0.00\n",
       "12653   02c083884c7d45b39cc68e1314fec56c     offer viewed     0  ae264e3637204a6fb9bb56bc8210ddfd             0.00\n",
       "12655   be8a5d1981a2458d90b255ddc7e0d174     offer viewed     0  5a8bc65990b245e5a138643cd4eb9837             0.00\n",
       "...                                  ...              ...   ...                               ...              ...\n",
       "306497  a6f84f4e976f44508c358cc9aba6d2b3  offer completed   714  2298d6c36e964ae4a3e7e9706d1fb8c2             3.00\n",
       "306506  b895c57e8cd047a8872ce02aa54759d6  offer completed   714  fafdcd668e3743c1bb461111dcafc2a4             2.00\n",
       "306507  8dda575c2a1d44b9ac8e8b07b93d1f8e     offer viewed   714  0b1e1539f2cc45b7b9fa7c272da2e1d7             0.00\n",
       "306509  8431c16f8e1d440880db371a68f82dd0  offer completed   714  fafdcd668e3743c1bb461111dcafc2a4             2.00\n",
       "306527  24f56b5e1849462093931b164eb803b5  offer completed   714  fafdcd668e3743c1bb461111dcafc2a4             2.00\n",
       "\n",
       "[91304 rows x 5 columns]"
      ]
     },
     "execution_count": 41,
     "metadata": {},
     "output_type": "execute_result"
    }
   ],
   "source": [
    "# Separate 'value' column into two\n",
    "for idx, row in transcript.iterrows():\n",
    "    for k in row['value']:\n",
    "        if k == 'offer_id' or k == 'offer id': \n",
    "            transcript.at[idx, 'offer_id'] = row['value'][k]\n",
    "        if k == 'reward':\n",
    "            transcript.at[idx, 'reward_received'] = row['value'][k]\n",
    "            \n",
    "# filling all the NaNs in the 'reward' column with 0 values\n",
    "transcript['reward_received'].fillna(0,inplace=True)\n",
    "\n",
    "# Drop column value\n",
    "transcript.drop('value', axis=1, inplace=True)\n",
    "transcript"
   ]
  },
  {
   "cell_type": "markdown",
   "metadata": {},
   "source": [
    "# Data Merging"
   ]
  },
  {
   "cell_type": "code",
   "execution_count": 42,
   "metadata": {},
   "outputs": [
    {
     "name": "stdout",
     "output_type": "stream",
     "text": [
      "91304\n",
      "91304\n"
     ]
    },
    {
     "data": {
      "text/html": [
       "<div>\n",
       "<style scoped>\n",
       "    .dataframe tbody tr th:only-of-type {\n",
       "        vertical-align: middle;\n",
       "    }\n",
       "\n",
       "    .dataframe tbody tr th {\n",
       "        vertical-align: top;\n",
       "    }\n",
       "\n",
       "    .dataframe thead th {\n",
       "        text-align: right;\n",
       "    }\n",
       "</style>\n",
       "<table border=\"1\" class=\"dataframe\">\n",
       "  <thead>\n",
       "    <tr style=\"text-align: right;\">\n",
       "      <th></th>\n",
       "      <th>cust_id</th>\n",
       "      <th>event</th>\n",
       "      <th>time</th>\n",
       "      <th>offer_id</th>\n",
       "      <th>reward_received</th>\n",
       "      <th>offer_type</th>\n",
       "      <th>duration</th>\n",
       "      <th>difficulty</th>\n",
       "      <th>offer_reward</th>\n",
       "      <th>channel_web</th>\n",
       "      <th>...</th>\n",
       "      <th>channel_social</th>\n",
       "      <th>gender</th>\n",
       "      <th>age</th>\n",
       "      <th>income</th>\n",
       "      <th>membership_dt</th>\n",
       "      <th>age_grp</th>\n",
       "      <th>income_grp</th>\n",
       "      <th>membership_year</th>\n",
       "      <th>membership_days</th>\n",
       "      <th>membership_duration</th>\n",
       "    </tr>\n",
       "  </thead>\n",
       "  <tbody>\n",
       "    <tr>\n",
       "      <th>73850</th>\n",
       "      <td>0009655768c64bdeb2e877511632db8f</td>\n",
       "      <td>offer completed</td>\n",
       "      <td>576</td>\n",
       "      <td>2906b810c7d4411798c6938adc9daaa5</td>\n",
       "      <td>2.00</td>\n",
       "      <td>discount</td>\n",
       "      <td>7</td>\n",
       "      <td>10</td>\n",
       "      <td>2</td>\n",
       "      <td>1</td>\n",
       "      <td>...</td>\n",
       "      <td>0</td>\n",
       "      <td>M</td>\n",
       "      <td>33.00</td>\n",
       "      <td>72000.00</td>\n",
       "      <td>2017-04-21</td>\n",
       "      <td>b_30_40</td>\n",
       "      <td>b_50k_75k</td>\n",
       "      <td>2017.00</td>\n",
       "      <td>1788.00</td>\n",
       "      <td>b_4_6_years</td>\n",
       "    </tr>\n",
       "    <tr>\n",
       "      <th>39506</th>\n",
       "      <td>0009655768c64bdeb2e877511632db8f</td>\n",
       "      <td>offer viewed</td>\n",
       "      <td>372</td>\n",
       "      <td>3f207df678b143eea3cee63160fa8bed</td>\n",
       "      <td>0.00</td>\n",
       "      <td>informational</td>\n",
       "      <td>4</td>\n",
       "      <td>0</td>\n",
       "      <td>0</td>\n",
       "      <td>1</td>\n",
       "      <td>...</td>\n",
       "      <td>0</td>\n",
       "      <td>M</td>\n",
       "      <td>33.00</td>\n",
       "      <td>72000.00</td>\n",
       "      <td>2017-04-21</td>\n",
       "      <td>b_30_40</td>\n",
       "      <td>b_50k_75k</td>\n",
       "      <td>2017.00</td>\n",
       "      <td>1788.00</td>\n",
       "      <td>b_4_6_years</td>\n",
       "    </tr>\n",
       "    <tr>\n",
       "      <th>22001</th>\n",
       "      <td>0009655768c64bdeb2e877511632db8f</td>\n",
       "      <td>offer viewed</td>\n",
       "      <td>192</td>\n",
       "      <td>5a8bc65990b245e5a138643cd4eb9837</td>\n",
       "      <td>0.00</td>\n",
       "      <td>informational</td>\n",
       "      <td>3</td>\n",
       "      <td>0</td>\n",
       "      <td>0</td>\n",
       "      <td>0</td>\n",
       "      <td>...</td>\n",
       "      <td>1</td>\n",
       "      <td>M</td>\n",
       "      <td>33.00</td>\n",
       "      <td>72000.00</td>\n",
       "      <td>2017-04-21</td>\n",
       "      <td>b_30_40</td>\n",
       "      <td>b_50k_75k</td>\n",
       "      <td>2017.00</td>\n",
       "      <td>1788.00</td>\n",
       "      <td>b_4_6_years</td>\n",
       "    </tr>\n",
       "    <tr>\n",
       "      <th>46140</th>\n",
       "      <td>0009655768c64bdeb2e877511632db8f</td>\n",
       "      <td>offer completed</td>\n",
       "      <td>414</td>\n",
       "      <td>f19421c1d4aa40978ebb69ca19b0e20d</td>\n",
       "      <td>5.00</td>\n",
       "      <td>bogo</td>\n",
       "      <td>5</td>\n",
       "      <td>5</td>\n",
       "      <td>5</td>\n",
       "      <td>1</td>\n",
       "      <td>...</td>\n",
       "      <td>1</td>\n",
       "      <td>M</td>\n",
       "      <td>33.00</td>\n",
       "      <td>72000.00</td>\n",
       "      <td>2017-04-21</td>\n",
       "      <td>b_30_40</td>\n",
       "      <td>b_50k_75k</td>\n",
       "      <td>2017.00</td>\n",
       "      <td>1788.00</td>\n",
       "      <td>b_4_6_years</td>\n",
       "    </tr>\n",
       "    <tr>\n",
       "      <th>55179</th>\n",
       "      <td>0009655768c64bdeb2e877511632db8f</td>\n",
       "      <td>offer viewed</td>\n",
       "      <td>456</td>\n",
       "      <td>f19421c1d4aa40978ebb69ca19b0e20d</td>\n",
       "      <td>0.00</td>\n",
       "      <td>bogo</td>\n",
       "      <td>5</td>\n",
       "      <td>5</td>\n",
       "      <td>5</td>\n",
       "      <td>1</td>\n",
       "      <td>...</td>\n",
       "      <td>1</td>\n",
       "      <td>M</td>\n",
       "      <td>33.00</td>\n",
       "      <td>72000.00</td>\n",
       "      <td>2017-04-21</td>\n",
       "      <td>b_30_40</td>\n",
       "      <td>b_50k_75k</td>\n",
       "      <td>2017.00</td>\n",
       "      <td>1788.00</td>\n",
       "      <td>b_4_6_years</td>\n",
       "    </tr>\n",
       "    <tr>\n",
       "      <th>67238</th>\n",
       "      <td>0009655768c64bdeb2e877511632db8f</td>\n",
       "      <td>offer completed</td>\n",
       "      <td>528</td>\n",
       "      <td>fafdcd668e3743c1bb461111dcafc2a4</td>\n",
       "      <td>2.00</td>\n",
       "      <td>discount</td>\n",
       "      <td>10</td>\n",
       "      <td>10</td>\n",
       "      <td>2</td>\n",
       "      <td>1</td>\n",
       "      <td>...</td>\n",
       "      <td>1</td>\n",
       "      <td>M</td>\n",
       "      <td>33.00</td>\n",
       "      <td>72000.00</td>\n",
       "      <td>2017-04-21</td>\n",
       "      <td>b_30_40</td>\n",
       "      <td>b_50k_75k</td>\n",
       "      <td>2017.00</td>\n",
       "      <td>1788.00</td>\n",
       "      <td>b_4_6_years</td>\n",
       "    </tr>\n",
       "    <tr>\n",
       "      <th>69357</th>\n",
       "      <td>0009655768c64bdeb2e877511632db8f</td>\n",
       "      <td>offer viewed</td>\n",
       "      <td>540</td>\n",
       "      <td>fafdcd668e3743c1bb461111dcafc2a4</td>\n",
       "      <td>0.00</td>\n",
       "      <td>discount</td>\n",
       "      <td>10</td>\n",
       "      <td>10</td>\n",
       "      <td>2</td>\n",
       "      <td>1</td>\n",
       "      <td>...</td>\n",
       "      <td>1</td>\n",
       "      <td>M</td>\n",
       "      <td>33.00</td>\n",
       "      <td>72000.00</td>\n",
       "      <td>2017-04-21</td>\n",
       "      <td>b_30_40</td>\n",
       "      <td>b_50k_75k</td>\n",
       "      <td>2017.00</td>\n",
       "      <td>1788.00</td>\n",
       "      <td>b_4_6_years</td>\n",
       "    </tr>\n",
       "    <tr>\n",
       "      <th>25319</th>\n",
       "      <td>00116118485d4dfda04fdbaba9a87b5c</td>\n",
       "      <td>offer viewed</td>\n",
       "      <td>216</td>\n",
       "      <td>f19421c1d4aa40978ebb69ca19b0e20d</td>\n",
       "      <td>0.00</td>\n",
       "      <td>bogo</td>\n",
       "      <td>5</td>\n",
       "      <td>5</td>\n",
       "      <td>5</td>\n",
       "      <td>1</td>\n",
       "      <td>...</td>\n",
       "      <td>1</td>\n",
       "      <td>NaN</td>\n",
       "      <td>NaN</td>\n",
       "      <td>NaN</td>\n",
       "      <td>NaT</td>\n",
       "      <td>NaN</td>\n",
       "      <td>NaN</td>\n",
       "      <td>NaN</td>\n",
       "      <td>NaN</td>\n",
       "      <td>NaN</td>\n",
       "    </tr>\n",
       "    <tr>\n",
       "      <th>86463</th>\n",
       "      <td>00116118485d4dfda04fdbaba9a87b5c</td>\n",
       "      <td>offer viewed</td>\n",
       "      <td>630</td>\n",
       "      <td>f19421c1d4aa40978ebb69ca19b0e20d</td>\n",
       "      <td>0.00</td>\n",
       "      <td>bogo</td>\n",
       "      <td>5</td>\n",
       "      <td>5</td>\n",
       "      <td>5</td>\n",
       "      <td>1</td>\n",
       "      <td>...</td>\n",
       "      <td>1</td>\n",
       "      <td>NaN</td>\n",
       "      <td>NaN</td>\n",
       "      <td>NaN</td>\n",
       "      <td>NaT</td>\n",
       "      <td>NaN</td>\n",
       "      <td>NaN</td>\n",
       "      <td>NaN</td>\n",
       "      <td>NaN</td>\n",
       "      <td>NaN</td>\n",
       "    </tr>\n",
       "    <tr>\n",
       "      <th>73910</th>\n",
       "      <td>0011e0d4e6b944f998e987f904e8c1e5</td>\n",
       "      <td>offer completed</td>\n",
       "      <td>576</td>\n",
       "      <td>0b1e1539f2cc45b7b9fa7c272da2e1d7</td>\n",
       "      <td>5.00</td>\n",
       "      <td>discount</td>\n",
       "      <td>10</td>\n",
       "      <td>20</td>\n",
       "      <td>5</td>\n",
       "      <td>1</td>\n",
       "      <td>...</td>\n",
       "      <td>0</td>\n",
       "      <td>NaN</td>\n",
       "      <td>NaN</td>\n",
       "      <td>NaN</td>\n",
       "      <td>NaT</td>\n",
       "      <td>NaN</td>\n",
       "      <td>NaN</td>\n",
       "      <td>NaN</td>\n",
       "      <td>NaN</td>\n",
       "      <td>NaN</td>\n",
       "    </tr>\n",
       "  </tbody>\n",
       "</table>\n",
       "<p>10 rows × 22 columns</p>\n",
       "</div>"
      ],
      "text/plain": [
       "                                cust_id            event  time                          offer_id  reward_received     offer_type  duration  difficulty  offer_reward  channel_web  ...  channel_social  gender   age   income  membership_dt  age_grp income_grp membership_year membership_days  membership_duration\n",
       "73850  0009655768c64bdeb2e877511632db8f  offer completed   576  2906b810c7d4411798c6938adc9daaa5             2.00       discount         7          10             2            1  ...               0       M 33.00 72000.00     2017-04-21  b_30_40  b_50k_75k         2017.00         1788.00          b_4_6_years\n",
       "39506  0009655768c64bdeb2e877511632db8f     offer viewed   372  3f207df678b143eea3cee63160fa8bed             0.00  informational         4           0             0            1  ...               0       M 33.00 72000.00     2017-04-21  b_30_40  b_50k_75k         2017.00         1788.00          b_4_6_years\n",
       "22001  0009655768c64bdeb2e877511632db8f     offer viewed   192  5a8bc65990b245e5a138643cd4eb9837             0.00  informational         3           0             0            0  ...               1       M 33.00 72000.00     2017-04-21  b_30_40  b_50k_75k         2017.00         1788.00          b_4_6_years\n",
       "46140  0009655768c64bdeb2e877511632db8f  offer completed   414  f19421c1d4aa40978ebb69ca19b0e20d             5.00           bogo         5           5             5            1  ...               1       M 33.00 72000.00     2017-04-21  b_30_40  b_50k_75k         2017.00         1788.00          b_4_6_years\n",
       "55179  0009655768c64bdeb2e877511632db8f     offer viewed   456  f19421c1d4aa40978ebb69ca19b0e20d             0.00           bogo         5           5             5            1  ...               1       M 33.00 72000.00     2017-04-21  b_30_40  b_50k_75k         2017.00         1788.00          b_4_6_years\n",
       "67238  0009655768c64bdeb2e877511632db8f  offer completed   528  fafdcd668e3743c1bb461111dcafc2a4             2.00       discount        10          10             2            1  ...               1       M 33.00 72000.00     2017-04-21  b_30_40  b_50k_75k         2017.00         1788.00          b_4_6_years\n",
       "69357  0009655768c64bdeb2e877511632db8f     offer viewed   540  fafdcd668e3743c1bb461111dcafc2a4             0.00       discount        10          10             2            1  ...               1       M 33.00 72000.00     2017-04-21  b_30_40  b_50k_75k         2017.00         1788.00          b_4_6_years\n",
       "25319  00116118485d4dfda04fdbaba9a87b5c     offer viewed   216  f19421c1d4aa40978ebb69ca19b0e20d             0.00           bogo         5           5             5            1  ...               1     NaN   NaN      NaN            NaT      NaN        NaN             NaN             NaN                  NaN\n",
       "86463  00116118485d4dfda04fdbaba9a87b5c     offer viewed   630  f19421c1d4aa40978ebb69ca19b0e20d             0.00           bogo         5           5             5            1  ...               1     NaN   NaN      NaN            NaT      NaN        NaN             NaN             NaN                  NaN\n",
       "73910  0011e0d4e6b944f998e987f904e8c1e5  offer completed   576  0b1e1539f2cc45b7b9fa7c272da2e1d7             5.00       discount        10          20             5            1  ...               0     NaN   NaN      NaN            NaT      NaN        NaN             NaN             NaN                  NaN\n",
       "\n",
       "[10 rows x 22 columns]"
      ]
     },
     "execution_count": 42,
     "metadata": {},
     "output_type": "execute_result"
    }
   ],
   "source": [
    "# Merge data\n",
    "print(len(transcript))\n",
    "df = transcript.merge(portfolio, how='left', on='offer_id')\n",
    "df = df.merge(profile, how='left', on='cust_id')\n",
    "print(len(df))\n",
    "\n",
    "# Sort data\n",
    "df.sort_values(by=['cust_id', 'offer_id', 'event'], inplace=True)\n",
    "df.head(10)"
   ]
  },
  {
   "cell_type": "code",
   "execution_count": 43,
   "metadata": {},
   "outputs": [
    {
     "data": {
      "text/plain": [
       "cust_id                    0\n",
       "event                      0\n",
       "time                       0\n",
       "offer_id                   0\n",
       "reward_received            0\n",
       "offer_type                 0\n",
       "duration                   0\n",
       "difficulty                 0\n",
       "offer_reward               0\n",
       "channel_web                0\n",
       "channel_email              0\n",
       "channel_mobile             0\n",
       "channel_social             0\n",
       "gender                 10274\n",
       "age                    10274\n",
       "income                 10274\n",
       "membership_dt          10274\n",
       "age_grp                10274\n",
       "income_grp             10274\n",
       "membership_year        10274\n",
       "membership_days        10274\n",
       "membership_duration    10274\n",
       "dtype: int64"
      ]
     },
     "execution_count": 43,
     "metadata": {},
     "output_type": "execute_result"
    }
   ],
   "source": [
    "# Check missing value\n",
    "df.isnull().sum()"
   ]
  },
  {
   "cell_type": "code",
   "execution_count": 44,
   "metadata": {},
   "outputs": [
    {
     "data": {
      "text/html": [
       "<div>\n",
       "<style scoped>\n",
       "    .dataframe tbody tr th:only-of-type {\n",
       "        vertical-align: middle;\n",
       "    }\n",
       "\n",
       "    .dataframe tbody tr th {\n",
       "        vertical-align: top;\n",
       "    }\n",
       "\n",
       "    .dataframe thead th {\n",
       "        text-align: right;\n",
       "    }\n",
       "</style>\n",
       "<table border=\"1\" class=\"dataframe\">\n",
       "  <thead>\n",
       "    <tr style=\"text-align: right;\">\n",
       "      <th></th>\n",
       "      <th>cust_id</th>\n",
       "      <th>event</th>\n",
       "      <th>time</th>\n",
       "      <th>offer_id</th>\n",
       "      <th>reward_received</th>\n",
       "      <th>offer_type</th>\n",
       "      <th>duration</th>\n",
       "      <th>difficulty</th>\n",
       "      <th>offer_reward</th>\n",
       "      <th>channel_web</th>\n",
       "      <th>...</th>\n",
       "      <th>channel_social</th>\n",
       "      <th>gender</th>\n",
       "      <th>age</th>\n",
       "      <th>income</th>\n",
       "      <th>membership_dt</th>\n",
       "      <th>age_grp</th>\n",
       "      <th>income_grp</th>\n",
       "      <th>membership_year</th>\n",
       "      <th>membership_days</th>\n",
       "      <th>membership_duration</th>\n",
       "    </tr>\n",
       "  </thead>\n",
       "  <tbody>\n",
       "    <tr>\n",
       "      <th>25319</th>\n",
       "      <td>00116118485d4dfda04fdbaba9a87b5c</td>\n",
       "      <td>offer viewed</td>\n",
       "      <td>216</td>\n",
       "      <td>f19421c1d4aa40978ebb69ca19b0e20d</td>\n",
       "      <td>0.00</td>\n",
       "      <td>bogo</td>\n",
       "      <td>5</td>\n",
       "      <td>5</td>\n",
       "      <td>5</td>\n",
       "      <td>1</td>\n",
       "      <td>...</td>\n",
       "      <td>1</td>\n",
       "      <td>NaN</td>\n",
       "      <td>NaN</td>\n",
       "      <td>NaN</td>\n",
       "      <td>NaT</td>\n",
       "      <td>NaN</td>\n",
       "      <td>NaN</td>\n",
       "      <td>NaN</td>\n",
       "      <td>NaN</td>\n",
       "      <td>NaN</td>\n",
       "    </tr>\n",
       "    <tr>\n",
       "      <th>86463</th>\n",
       "      <td>00116118485d4dfda04fdbaba9a87b5c</td>\n",
       "      <td>offer viewed</td>\n",
       "      <td>630</td>\n",
       "      <td>f19421c1d4aa40978ebb69ca19b0e20d</td>\n",
       "      <td>0.00</td>\n",
       "      <td>bogo</td>\n",
       "      <td>5</td>\n",
       "      <td>5</td>\n",
       "      <td>5</td>\n",
       "      <td>1</td>\n",
       "      <td>...</td>\n",
       "      <td>1</td>\n",
       "      <td>NaN</td>\n",
       "      <td>NaN</td>\n",
       "      <td>NaN</td>\n",
       "      <td>NaT</td>\n",
       "      <td>NaN</td>\n",
       "      <td>NaN</td>\n",
       "      <td>NaN</td>\n",
       "      <td>NaN</td>\n",
       "      <td>NaN</td>\n",
       "    </tr>\n",
       "    <tr>\n",
       "      <th>73910</th>\n",
       "      <td>0011e0d4e6b944f998e987f904e8c1e5</td>\n",
       "      <td>offer completed</td>\n",
       "      <td>576</td>\n",
       "      <td>0b1e1539f2cc45b7b9fa7c272da2e1d7</td>\n",
       "      <td>5.00</td>\n",
       "      <td>discount</td>\n",
       "      <td>10</td>\n",
       "      <td>20</td>\n",
       "      <td>5</td>\n",
       "      <td>1</td>\n",
       "      <td>...</td>\n",
       "      <td>0</td>\n",
       "      <td>NaN</td>\n",
       "      <td>NaN</td>\n",
       "      <td>NaN</td>\n",
       "      <td>NaT</td>\n",
       "      <td>NaN</td>\n",
       "      <td>NaN</td>\n",
       "      <td>NaN</td>\n",
       "      <td>NaN</td>\n",
       "      <td>NaN</td>\n",
       "    </tr>\n",
       "    <tr>\n",
       "      <th>51354</th>\n",
       "      <td>0011e0d4e6b944f998e987f904e8c1e5</td>\n",
       "      <td>offer viewed</td>\n",
       "      <td>432</td>\n",
       "      <td>0b1e1539f2cc45b7b9fa7c272da2e1d7</td>\n",
       "      <td>0.00</td>\n",
       "      <td>discount</td>\n",
       "      <td>10</td>\n",
       "      <td>20</td>\n",
       "      <td>5</td>\n",
       "      <td>1</td>\n",
       "      <td>...</td>\n",
       "      <td>0</td>\n",
       "      <td>NaN</td>\n",
       "      <td>NaN</td>\n",
       "      <td>NaN</td>\n",
       "      <td>NaT</td>\n",
       "      <td>NaN</td>\n",
       "      <td>NaN</td>\n",
       "      <td>NaN</td>\n",
       "      <td>NaN</td>\n",
       "      <td>NaN</td>\n",
       "    </tr>\n",
       "    <tr>\n",
       "      <th>27818</th>\n",
       "      <td>0011e0d4e6b944f998e987f904e8c1e5</td>\n",
       "      <td>offer completed</td>\n",
       "      <td>252</td>\n",
       "      <td>2298d6c36e964ae4a3e7e9706d1fb8c2</td>\n",
       "      <td>3.00</td>\n",
       "      <td>discount</td>\n",
       "      <td>7</td>\n",
       "      <td>7</td>\n",
       "      <td>3</td>\n",
       "      <td>1</td>\n",
       "      <td>...</td>\n",
       "      <td>1</td>\n",
       "      <td>NaN</td>\n",
       "      <td>NaN</td>\n",
       "      <td>NaN</td>\n",
       "      <td>NaT</td>\n",
       "      <td>NaN</td>\n",
       "      <td>NaN</td>\n",
       "      <td>NaN</td>\n",
       "      <td>NaN</td>\n",
       "      <td>NaN</td>\n",
       "    </tr>\n",
       "    <tr>\n",
       "      <th>...</th>\n",
       "      <td>...</td>\n",
       "      <td>...</td>\n",
       "      <td>...</td>\n",
       "      <td>...</td>\n",
       "      <td>...</td>\n",
       "      <td>...</td>\n",
       "      <td>...</td>\n",
       "      <td>...</td>\n",
       "      <td>...</td>\n",
       "      <td>...</td>\n",
       "      <td>...</td>\n",
       "      <td>...</td>\n",
       "      <td>...</td>\n",
       "      <td>...</td>\n",
       "      <td>...</td>\n",
       "      <td>...</td>\n",
       "      <td>...</td>\n",
       "      <td>...</td>\n",
       "      <td>...</td>\n",
       "      <td>...</td>\n",
       "      <td>...</td>\n",
       "    </tr>\n",
       "    <tr>\n",
       "      <th>12197</th>\n",
       "      <td>ffecb1f8543f4bf7bade023de366d6bf</td>\n",
       "      <td>offer viewed</td>\n",
       "      <td>78</td>\n",
       "      <td>5a8bc65990b245e5a138643cd4eb9837</td>\n",
       "      <td>0.00</td>\n",
       "      <td>informational</td>\n",
       "      <td>3</td>\n",
       "      <td>0</td>\n",
       "      <td>0</td>\n",
       "      <td>0</td>\n",
       "      <td>...</td>\n",
       "      <td>1</td>\n",
       "      <td>NaN</td>\n",
       "      <td>NaN</td>\n",
       "      <td>NaN</td>\n",
       "      <td>NaT</td>\n",
       "      <td>NaN</td>\n",
       "      <td>NaN</td>\n",
       "      <td>NaN</td>\n",
       "      <td>NaN</td>\n",
       "      <td>NaN</td>\n",
       "    </tr>\n",
       "    <tr>\n",
       "      <th>45507</th>\n",
       "      <td>ffecb1f8543f4bf7bade023de366d6bf</td>\n",
       "      <td>offer viewed</td>\n",
       "      <td>408</td>\n",
       "      <td>9b98b8c7a33c4b65b9aebfe6a799e6d9</td>\n",
       "      <td>0.00</td>\n",
       "      <td>bogo</td>\n",
       "      <td>7</td>\n",
       "      <td>5</td>\n",
       "      <td>5</td>\n",
       "      <td>1</td>\n",
       "      <td>...</td>\n",
       "      <td>0</td>\n",
       "      <td>NaN</td>\n",
       "      <td>NaN</td>\n",
       "      <td>NaN</td>\n",
       "      <td>NaT</td>\n",
       "      <td>NaN</td>\n",
       "      <td>NaN</td>\n",
       "      <td>NaN</td>\n",
       "      <td>NaN</td>\n",
       "      <td>NaN</td>\n",
       "    </tr>\n",
       "    <tr>\n",
       "      <th>19335</th>\n",
       "      <td>ffede3b700ac41d6a266fa1ba74b4f16</td>\n",
       "      <td>offer viewed</td>\n",
       "      <td>180</td>\n",
       "      <td>4d5c57ea9a6940dd891ad53e9dbe8da0</td>\n",
       "      <td>0.00</td>\n",
       "      <td>bogo</td>\n",
       "      <td>5</td>\n",
       "      <td>10</td>\n",
       "      <td>10</td>\n",
       "      <td>1</td>\n",
       "      <td>...</td>\n",
       "      <td>1</td>\n",
       "      <td>NaN</td>\n",
       "      <td>NaN</td>\n",
       "      <td>NaN</td>\n",
       "      <td>NaT</td>\n",
       "      <td>NaN</td>\n",
       "      <td>NaN</td>\n",
       "      <td>NaN</td>\n",
       "      <td>NaN</td>\n",
       "      <td>NaN</td>\n",
       "    </tr>\n",
       "    <tr>\n",
       "      <th>80350</th>\n",
       "      <td>ffede3b700ac41d6a266fa1ba74b4f16</td>\n",
       "      <td>offer viewed</td>\n",
       "      <td>594</td>\n",
       "      <td>f19421c1d4aa40978ebb69ca19b0e20d</td>\n",
       "      <td>0.00</td>\n",
       "      <td>bogo</td>\n",
       "      <td>5</td>\n",
       "      <td>5</td>\n",
       "      <td>5</td>\n",
       "      <td>1</td>\n",
       "      <td>...</td>\n",
       "      <td>1</td>\n",
       "      <td>NaN</td>\n",
       "      <td>NaN</td>\n",
       "      <td>NaN</td>\n",
       "      <td>NaT</td>\n",
       "      <td>NaN</td>\n",
       "      <td>NaN</td>\n",
       "      <td>NaN</td>\n",
       "      <td>NaN</td>\n",
       "      <td>NaN</td>\n",
       "    </tr>\n",
       "    <tr>\n",
       "      <th>8550</th>\n",
       "      <td>ffede3b700ac41d6a266fa1ba74b4f16</td>\n",
       "      <td>offer viewed</td>\n",
       "      <td>36</td>\n",
       "      <td>fafdcd668e3743c1bb461111dcafc2a4</td>\n",
       "      <td>0.00</td>\n",
       "      <td>discount</td>\n",
       "      <td>10</td>\n",
       "      <td>10</td>\n",
       "      <td>2</td>\n",
       "      <td>1</td>\n",
       "      <td>...</td>\n",
       "      <td>1</td>\n",
       "      <td>NaN</td>\n",
       "      <td>NaN</td>\n",
       "      <td>NaN</td>\n",
       "      <td>NaT</td>\n",
       "      <td>NaN</td>\n",
       "      <td>NaN</td>\n",
       "      <td>NaN</td>\n",
       "      <td>NaN</td>\n",
       "      <td>NaN</td>\n",
       "    </tr>\n",
       "  </tbody>\n",
       "</table>\n",
       "<p>10274 rows × 22 columns</p>\n",
       "</div>"
      ],
      "text/plain": [
       "                                cust_id            event  time                          offer_id  reward_received     offer_type  duration  difficulty  offer_reward  channel_web  ...  channel_social  gender  age income  membership_dt  age_grp income_grp membership_year membership_days  membership_duration\n",
       "25319  00116118485d4dfda04fdbaba9a87b5c     offer viewed   216  f19421c1d4aa40978ebb69ca19b0e20d             0.00           bogo         5           5             5            1  ...               1     NaN  NaN    NaN            NaT      NaN        NaN             NaN             NaN                  NaN\n",
       "86463  00116118485d4dfda04fdbaba9a87b5c     offer viewed   630  f19421c1d4aa40978ebb69ca19b0e20d             0.00           bogo         5           5             5            1  ...               1     NaN  NaN    NaN            NaT      NaN        NaN             NaN             NaN                  NaN\n",
       "73910  0011e0d4e6b944f998e987f904e8c1e5  offer completed   576  0b1e1539f2cc45b7b9fa7c272da2e1d7             5.00       discount        10          20             5            1  ...               0     NaN  NaN    NaN            NaT      NaN        NaN             NaN             NaN                  NaN\n",
       "51354  0011e0d4e6b944f998e987f904e8c1e5     offer viewed   432  0b1e1539f2cc45b7b9fa7c272da2e1d7             0.00       discount        10          20             5            1  ...               0     NaN  NaN    NaN            NaT      NaN        NaN             NaN             NaN                  NaN\n",
       "27818  0011e0d4e6b944f998e987f904e8c1e5  offer completed   252  2298d6c36e964ae4a3e7e9706d1fb8c2             3.00       discount         7           7             3            1  ...               1     NaN  NaN    NaN            NaT      NaN        NaN             NaN             NaN                  NaN\n",
       "...                                 ...              ...   ...                               ...              ...            ...       ...         ...           ...          ...  ...             ...     ...  ...    ...            ...      ...        ...             ...             ...                  ...\n",
       "12197  ffecb1f8543f4bf7bade023de366d6bf     offer viewed    78  5a8bc65990b245e5a138643cd4eb9837             0.00  informational         3           0             0            0  ...               1     NaN  NaN    NaN            NaT      NaN        NaN             NaN             NaN                  NaN\n",
       "45507  ffecb1f8543f4bf7bade023de366d6bf     offer viewed   408  9b98b8c7a33c4b65b9aebfe6a799e6d9             0.00           bogo         7           5             5            1  ...               0     NaN  NaN    NaN            NaT      NaN        NaN             NaN             NaN                  NaN\n",
       "19335  ffede3b700ac41d6a266fa1ba74b4f16     offer viewed   180  4d5c57ea9a6940dd891ad53e9dbe8da0             0.00           bogo         5          10            10            1  ...               1     NaN  NaN    NaN            NaT      NaN        NaN             NaN             NaN                  NaN\n",
       "80350  ffede3b700ac41d6a266fa1ba74b4f16     offer viewed   594  f19421c1d4aa40978ebb69ca19b0e20d             0.00           bogo         5           5             5            1  ...               1     NaN  NaN    NaN            NaT      NaN        NaN             NaN             NaN                  NaN\n",
       "8550   ffede3b700ac41d6a266fa1ba74b4f16     offer viewed    36  fafdcd668e3743c1bb461111dcafc2a4             0.00       discount        10          10             2            1  ...               1     NaN  NaN    NaN            NaT      NaN        NaN             NaN             NaN                  NaN\n",
       "\n",
       "[10274 rows x 22 columns]"
      ]
     },
     "execution_count": 44,
     "metadata": {},
     "output_type": "execute_result"
    }
   ],
   "source": [
    "# Check missing value\n",
    "df[df.gender.isnull()]\n",
    "# Remove them as not customer information can be learned from"
   ]
  },
  {
   "cell_type": "code",
   "execution_count": 45,
   "metadata": {},
   "outputs": [
    {
     "data": {
      "text/plain": [
       "cust_id                0\n",
       "event                  0\n",
       "time                   0\n",
       "offer_id               0\n",
       "reward_received        0\n",
       "offer_type             0\n",
       "duration               0\n",
       "difficulty             0\n",
       "offer_reward           0\n",
       "channel_web            0\n",
       "channel_email          0\n",
       "channel_mobile         0\n",
       "channel_social         0\n",
       "gender                 0\n",
       "age                    0\n",
       "income                 0\n",
       "membership_dt          0\n",
       "age_grp                0\n",
       "income_grp             0\n",
       "membership_year        0\n",
       "membership_days        0\n",
       "membership_duration    0\n",
       "dtype: int64"
      ]
     },
     "execution_count": 45,
     "metadata": {},
     "output_type": "execute_result"
    }
   ],
   "source": [
    "# Remove rows with missing values\n",
    "df = df.dropna(how='any', axis=0)\n",
    "\n",
    "# Check missing values\n",
    "df.isnull().sum()"
   ]
  },
  {
   "cell_type": "markdown",
   "metadata": {},
   "source": [
    "# Preliminary Analysis"
   ]
  },
  {
   "cell_type": "code",
   "execution_count": 46,
   "metadata": {},
   "outputs": [
    {
     "data": {
      "image/png": "[encoded data removed]",
      "text/plain": [
       "<Figure size 720x432 with 1 Axes>"
      ]
     },
     "metadata": {
      "needs_background": "light"
     },
     "output_type": "display_data"
    }
   ],
   "source": [
    "# Out of viewed offer, how many of them are completed?\n",
    "table = pd.pivot_table(df, columns='event', values='cust_id', aggfunc='count')\n",
    "table['offer_completed_mix'] = table['offer completed']/table['offer viewed']\n",
    "table['offer_not_completed_mix'] = 1-table['offer_completed_mix']\n",
    "table.drop(columns=['offer completed', 'offer viewed'], axis=1, inplace=True)\n",
    "table.plot(kind='bar', \n",
    "           stacked=True, \n",
    "           colormap='tab10', \n",
    "           figsize=(10, 6))\n",
    "\n",
    "plt.legend(loc=\"lower left\", ncol=2)\n",
    "plt.xlabel(\"Customer ID\")\n",
    "plt.ylabel(\"Proportion\")\n",
    "for n, x in enumerate([*table.index.values]):\n",
    "    for (proportion, y_loc) in zip(table.loc[x],\n",
    "                                   table.loc[x].cumsum()):\n",
    "                \n",
    "        plt.text(x=n-0.04,\n",
    "                 y=y_loc,\n",
    "                 s=f'{np.round(proportion * 100, 0)}%', \n",
    "                 color=\"black\",\n",
    "                 fontsize=12,\n",
    "                 fontweight=\"bold\")\n",
    "plt.show()\n",
    "\n",
    "# 65% of customer who view their offer completed them"
   ]
  },
  {
   "cell_type": "code",
   "execution_count": 47,
   "metadata": {},
   "outputs": [
    {
     "data": {
      "image/png": "[encoded data removed]",
      "text/plain": [
       "<Figure size 720x432 with 1 Axes>"
      ]
     },
     "metadata": {
      "needs_background": "light"
     },
     "output_type": "display_data"
    }
   ],
   "source": [
    "# Which offer type is the most popular\n",
    "table = pd.pivot_table(df, index='offer_type', columns='event', values='cust_id', aggfunc=lambda x: len(x.unique()))\n",
    "table['offer_completed_mix'] = table['offer completed']/table['offer viewed']\n",
    "table.fillna(0, inplace=True)\n",
    "table['offer_not_completed_mix'] = 1-table['offer_completed_mix']\n",
    "table.drop(columns=['offer completed', 'offer viewed'], axis=1, inplace=True)\n",
    "\n",
    "# Plot\n",
    "table.plot(kind='bar', \n",
    "           stacked=True, \n",
    "           colormap='tab10', \n",
    "           figsize=(10, 6))\n",
    "\n",
    "plt.legend(loc=\"lower left\", ncol=2)\n",
    "plt.xlabel(\"Offer Type\")\n",
    "plt.ylabel(\"Proportion\")\n",
    "for n, x in enumerate([*table.index.values]):\n",
    "    for (proportion, y_loc) in zip(table.loc[x],\n",
    "                                   table.loc[x].cumsum()):\n",
    "                \n",
    "        plt.text(x=n-0.04,\n",
    "                 y=y_loc,\n",
    "                 s=f'{np.round(proportion * 100, 0)}%', \n",
    "                 color=\"black\",\n",
    "                 fontsize=12,\n",
    "                 fontweight=\"bold\")\n",
    "plt.show()\n",
    "\n",
    "# Discount offer is more popular compared to BOGO\n",
    "# No offer completed for informational offers they are merely advertisements"
   ]
  },
  {
   "cell_type": "code",
   "execution_count": 48,
   "metadata": {},
   "outputs": [
    {
     "data": {
      "image/png": "[encoded data removed]",
      "text/plain": [
       "<Figure size 720x432 with 1 Axes>"
      ]
     },
     "metadata": {
      "needs_background": "light"
     },
     "output_type": "display_data"
    }
   ],
   "source": [
    "# Which gender is more likely to complete an offer\n",
    "table = pd.pivot_table(df, index='gender', columns='event', values='cust_id', aggfunc=lambda x: len(x.unique()))\n",
    "table['offer_completed_mix'] = table['offer completed']/table['offer viewed']\n",
    "table.fillna(0, inplace=True)\n",
    "table['offer_not_completed_mix'] = 1-table['offer_completed_mix']\n",
    "table.drop(columns=['offer completed', 'offer viewed'], axis=1, inplace=True)\n",
    "\n",
    "# Plot\n",
    "table.plot(kind='bar', \n",
    "           stacked=True, \n",
    "           colormap='tab10', \n",
    "           figsize=(10, 6))\n",
    "\n",
    "plt.legend(loc=\"lower left\", ncol=2)\n",
    "plt.xlabel(\"Offer Type\")\n",
    "plt.ylabel(\"Proportion\")\n",
    "for n, x in enumerate([*table.index.values]):\n",
    "    for (proportion, y_loc) in zip(table.loc[x],\n",
    "                                   table.loc[x].cumsum()):\n",
    "                \n",
    "        plt.text(x=n-0.04,\n",
    "                 y=y_loc,\n",
    "                 s=f'{np.round(proportion * 100, 0)}%', \n",
    "                 color=\"black\",\n",
    "                 fontsize=12,\n",
    "                 fontweight=\"bold\")\n",
    "\n",
    "plt.show()\n",
    "\n",
    "# Female has higher percentage of customer completed their offers, followed closely by Others and Male."
   ]
  },
  {
   "cell_type": "code",
   "execution_count": 49,
   "metadata": {},
   "outputs": [
    {
     "data": {
      "image/png": "[encoded data removed]",
      "text/plain": [
       "<Figure size 720x432 with 1 Axes>"
      ]
     },
     "metadata": {
      "needs_background": "light"
     },
     "output_type": "display_data"
    }
   ],
   "source": [
    "# Which age group is more likely to complete an offer\n",
    "table = pd.pivot_table(df, index='age_grp', columns='event', values='cust_id', aggfunc=lambda x: len(x.unique()))\n",
    "table['offer_completed_mix'] = table['offer completed']/table['offer viewed']\n",
    "table.fillna(0, inplace=True)\n",
    "table['offer_not_completed_mix'] = 1-table['offer_completed_mix']\n",
    "table.drop(columns=['offer completed', 'offer viewed'], axis=1, inplace=True)\n",
    "\n",
    "# Plot\n",
    "table.plot(kind='bar', \n",
    "           stacked=True, \n",
    "           colormap='tab10', \n",
    "           figsize=(10, 6))\n",
    "\n",
    "plt.legend(loc=\"lower left\", ncol=2)\n",
    "plt.xlabel(\"Offer Type\")\n",
    "plt.ylabel(\"Proportion\")\n",
    "for n, x in enumerate([*table.index.values]):\n",
    "    for (proportion, y_loc) in zip(table.loc[x],\n",
    "                                   table.loc[x].cumsum()):\n",
    "                \n",
    "        plt.text(x=n-0.04,\n",
    "                 y=y_loc,\n",
    "                 s=f'{np.round(proportion * 100, 0)}%', \n",
    "                 color=\"black\",\n",
    "                 fontsize=12,\n",
    "                 fontweight=\"bold\")\n",
    "\n",
    "\n",
    "plt.show()\n",
    "# We can see an increasing trend in terms of percentage of customers completed their offers as the age increases.\n",
    "# Older customers age 50 & above have higher likelihood to complete the offers"
   ]
  },
  {
   "cell_type": "code",
   "execution_count": 50,
   "metadata": {},
   "outputs": [
    {
     "data": {
      "image/png": "[encoded data removed]",
      "text/plain": [
       "<Figure size 720x432 with 1 Axes>"
      ]
     },
     "metadata": {
      "needs_background": "light"
     },
     "output_type": "display_data"
    }
   ],
   "source": [
    "# Which income group is more likely to complete an offer\n",
    "table = pd.pivot_table(df, index='income_grp', columns='event', values='cust_id', aggfunc=lambda x: len(x.unique()))\n",
    "table['offer_completed_mix'] = table['offer completed']/table['offer viewed']\n",
    "table.fillna(0, inplace=True)\n",
    "table['offer_not_completed_mix'] = 1-table['offer_completed_mix']\n",
    "table.drop(columns=['offer completed', 'offer viewed'], axis=1, inplace=True)\n",
    "\n",
    "# Plot\n",
    "table.plot(kind='bar', \n",
    "           stacked=True, \n",
    "           colormap='tab10', \n",
    "           figsize=(10, 6))\n",
    "\n",
    "plt.legend(loc=\"lower left\", ncol=2)\n",
    "plt.xlabel(\"Offer Type\")\n",
    "plt.ylabel(\"Proportion\")\n",
    "for n, x in enumerate([*table.index.values]):\n",
    "    for (proportion, y_loc) in zip(table.loc[x],\n",
    "                                   table.loc[x].cumsum()):\n",
    "                \n",
    "        plt.text(x=n-0.04,\n",
    "                 y=y_loc,\n",
    "                 s=f'{np.round(proportion * 100, 0)}%', \n",
    "                 color=\"black\",\n",
    "                 fontsize=12,\n",
    "                 fontweight=\"bold\")\n",
    "\n",
    "\n",
    "plt.show()\n",
    "\n",
    "# We can see an increasing trend in terms of percentage of customers completed their offers as the income increases.\n",
    "# Higher income customers with 75k annual income & above have higher likelihood to complete the offers"
   ]
  },
  {
   "cell_type": "code",
   "execution_count": 51,
   "metadata": {},
   "outputs": [
    {
     "data": {
      "image/png": "[encoded data removed]",
      "text/plain": [
       "<Figure size 720x432 with 1 Axes>"
      ]
     },
     "metadata": {
      "needs_background": "light"
     },
     "output_type": "display_data"
    }
   ],
   "source": [
    "# Which offer reward has more likelihood to be completed\n",
    "table = pd.pivot_table(df, index='offer_reward', columns='event', values='cust_id', aggfunc=lambda x: len(x.unique()))\n",
    "table['offer_completed_mix'] = table['offer completed']/table['offer viewed']\n",
    "table.fillna(0, inplace=True)\n",
    "table['offer_not_completed_mix'] = 1-table['offer_completed_mix']\n",
    "table.drop(columns=['offer completed', 'offer viewed'], axis=1, inplace=True)\n",
    "\n",
    "# Plot\n",
    "table.plot(kind='bar', \n",
    "           stacked=True, \n",
    "           colormap='tab10', \n",
    "           figsize=(10, 6))\n",
    "\n",
    "plt.legend(loc=\"lower left\", ncol=2)\n",
    "plt.xlabel(\"Offer Type\")\n",
    "plt.ylabel(\"Proportion\")\n",
    "for n, x in enumerate([*table.index.values]):\n",
    "    for (proportion, y_loc) in zip(table.loc[x],\n",
    "                                   table.loc[x].cumsum()):\n",
    "                \n",
    "        plt.text(x=n-0.04,\n",
    "                 y=y_loc,\n",
    "                 s=f'{np.round(proportion * 100, 0)}%', \n",
    "                 color=\"black\",\n",
    "                 fontsize=12,\n",
    "                 fontweight=\"bold\")\n",
    "\n",
    "\n",
    "plt.show()\n",
    "\n",
    "# There is no trend observed in the chart below\n",
    "# It seems like the amount of reward doesn't influence customer's behaviour to complete the offers."
   ]
  },
  {
   "cell_type": "code",
   "execution_count": 52,
   "metadata": {},
   "outputs": [
    {
     "data": {
      "image/png": "[encoded data removed]",
      "text/plain": [
       "<Figure size 720x432 with 1 Axes>"
      ]
     },
     "metadata": {
      "needs_background": "light"
     },
     "output_type": "display_data"
    }
   ],
   "source": [
    "# Which membership duration is more likely to complete an offer\n",
    "table = pd.pivot_table(df, index='membership_duration', columns='event', values='cust_id', aggfunc=lambda x: len(x.unique()))\n",
    "table['offer_completed_mix'] = table['offer completed']/table['offer viewed']\n",
    "table.fillna(0, inplace=True)\n",
    "table['offer_not_completed_mix'] = 1-table['offer_completed_mix']\n",
    "table.drop(columns=['offer completed', 'offer viewed'], axis=1, inplace=True)\n",
    "\n",
    "# Plot\n",
    "table.plot(kind='bar', \n",
    "           stacked=True, \n",
    "           colormap='tab10', \n",
    "           figsize=(10, 6))\n",
    "\n",
    "plt.legend(loc=\"lower left\", ncol=2)\n",
    "plt.xlabel(\"Offer Type\")\n",
    "plt.ylabel(\"Proportion\")\n",
    "for n, x in enumerate([*table.index.values]):\n",
    "    for (proportion, y_loc) in zip(table.loc[x],\n",
    "                                   table.loc[x].cumsum()):\n",
    "                \n",
    "        plt.text(x=n-0.04,\n",
    "                 y=y_loc,\n",
    "                 s=f'{np.round(proportion * 100, 0)}%', \n",
    "                 color=\"black\",\n",
    "                 fontsize=12,\n",
    "                 fontweight=\"bold\")\n",
    "\n",
    "\n",
    "plt.show()\n",
    "\n",
    "# Customers with more than 4 years long of membership have higher likelihood of completing the offer"
   ]
  },
  {
   "cell_type": "code",
   "execution_count": 53,
   "metadata": {},
   "outputs": [
    {
     "data": {
      "text/html": [
       "<div>\n",
       "<style scoped>\n",
       "    .dataframe tbody tr th:only-of-type {\n",
       "        vertical-align: middle;\n",
       "    }\n",
       "\n",
       "    .dataframe tbody tr th {\n",
       "        vertical-align: top;\n",
       "    }\n",
       "\n",
       "    .dataframe thead th {\n",
       "        text-align: right;\n",
       "    }\n",
       "</style>\n",
       "<table border=\"1\" class=\"dataframe\">\n",
       "  <thead>\n",
       "    <tr style=\"text-align: right;\">\n",
       "      <th></th>\n",
       "      <th>time</th>\n",
       "    </tr>\n",
       "    <tr>\n",
       "      <th>gender</th>\n",
       "      <th></th>\n",
       "    </tr>\n",
       "  </thead>\n",
       "  <tbody>\n",
       "    <tr>\n",
       "      <th>F</th>\n",
       "      <td>16.54</td>\n",
       "    </tr>\n",
       "    <tr>\n",
       "      <th>M</th>\n",
       "      <td>16.78</td>\n",
       "    </tr>\n",
       "  </tbody>\n",
       "</table>\n",
       "</div>"
      ],
      "text/plain": [
       "        time\n",
       "gender      \n",
       "F      16.54\n",
       "M      16.78"
      ]
     },
     "execution_count": 53,
     "metadata": {},
     "output_type": "execute_result"
    }
   ],
   "source": [
    "# Duration to complete an offer by gender\n",
    "table = pd.pivot_table(df[df['event'] == 'offer completed'], index='gender', values='time', aggfunc=np.mean)\n",
    "table['time'] = table['time']/24\n",
    "table\n",
    "\n",
    "# Males take slightly longer time to complete the offer compared to female.\n",
    "# Looking at the small differences in time, it's fair to say offer has similar influences on female & male "
   ]
  },
  {
   "cell_type": "markdown",
   "metadata": {},
   "source": [
    "# Data Condensation"
   ]
  },
  {
   "cell_type": "code",
   "execution_count": 54,
   "metadata": {},
   "outputs": [
    {
     "data": {
      "text/plain": [
       "46242"
      ]
     },
     "execution_count": 54,
     "metadata": {},
     "output_type": "execute_result"
    }
   ],
   "source": [
    "# Create df to have unique cust id with uniqe offer id and event\n",
    "# by removing duplicated based on cust_id, offer_id\n",
    "df.drop_duplicates(subset=['cust_id', 'offer_id'], inplace=True)\n",
    "len(df)"
   ]
  },
  {
   "cell_type": "markdown",
   "metadata": {},
   "source": [
    "# Correlation Analysis"
   ]
  },
  {
   "cell_type": "code",
   "execution_count": 55,
   "metadata": {},
   "outputs": [
    {
     "name": "stdout",
     "output_type": "stream",
     "text": [
      "AxesSubplot(0.141,0.125;0.604x0.755)\n"
     ]
    },
    {
     "data": {
      "image/png": "[encoded data removed]",
      "text/plain": [
       "<Figure size 720x576 with 2 Axes>"
      ]
     },
     "metadata": {
      "needs_background": "light"
     },
     "output_type": "display_data"
    }
   ],
   "source": [
    "# Extract numerical variables and apply correlation tests\n",
    "num_vars = ['time', 'duration', 'difficulty', 'offer_reward', 'age', 'income', 'membership_year', 'membership_days']\n",
    "df_corr = df[num_vars]\n",
    " \n",
    "# Plot heatmap\n",
    "df_corr = df_corr.corr(method='spearman').abs()\n",
    "ax = plt.figure(figsize=(10,8)).gca()\n",
    "colormap = sns.color_palette(\"Blues\")\n",
    "print(sns.heatmap(df_corr, ax=ax, square=True, cmap=colormap))\n",
    "\n",
    "# Strong correlation\n",
    "# 1. difficulty x duration - \n",
    "# 2. difficult x offer reward\n"
   ]
  },
  {
   "cell_type": "code",
   "execution_count": 66,
   "metadata": {},
   "outputs": [
    {
     "data": {
      "text/plain": [
       "<AxesSubplot:>"
      ]
     },
     "execution_count": 66,
     "metadata": {},
     "output_type": "execute_result"
    },
    {
     "data": {
      "image/png": "[encoded data removed]",
      "text/plain": [
       "<Figure size 1008x720 with 2 Axes>"
      ]
     },
     "metadata": {
      "needs_background": "light"
     },
     "output_type": "display_data"
    }
   ],
   "source": [
    "# Extract categorical\n",
    "cat_vars = [ 'event', 'offer_type', 'gender', 'age_grp', 'income_grp', 'membership_duration']\n",
    "\n",
    "df_assoc = df[cat_vars]\n",
    "\n",
    "# Correlation between categorical variables\n",
    "df_assoc = df_assoc.apply(lambda x: pd.factorize(x)[0]).corr(method='pearson').abs()\n",
    "\n",
    "# Plot heatmap\n",
    "ax1 = plt.figure(figsize=(14,10)).gca()\n",
    "colormap = sns.color_palette(\"Blues\")\n",
    "sns.heatmap(df_assoc, square=True, cmap=colormap)"
   ]
  },
  {
   "cell_type": "markdown",
   "metadata": {},
   "source": [
    "# Modelling"
   ]
  },
  {
   "cell_type": "markdown",
   "metadata": {},
   "source": [
    "For modelling, I will include categorical and numerical predictor in the model as follows:\n",
    "\n",
    "Numerical predictor\n",
    "* age\n",
    "* income\n",
    "* membership_days\n",
    "\n",
    "Categorical predictor\n",
    "* gender\n",
    "* offer_type\n",
    "\n",
    "For categorical predictor, I will use **one-hot encoding** by creating dummy variable for categorical encoding. I need to convert categorical columns to numerical columns so that a machine learning algorithm understands it.\n",
    "I choose one-hot encoding as the categorical predictor are **not ordinal** and **the number of categorical predictors is less** so one-hot encoding can be effectively applied. The first columns of each of categorical predictors are dropped from the data **to avoid multicollinearity issue**."
   ]
  },
  {
   "cell_type": "code",
   "execution_count": 57,
   "metadata": {},
   "outputs": [
    {
     "data": {
      "text/html": [
       "<div>\n",
       "<style scoped>\n",
       "    .dataframe tbody tr th:only-of-type {\n",
       "        vertical-align: middle;\n",
       "    }\n",
       "\n",
       "    .dataframe tbody tr th {\n",
       "        vertical-align: top;\n",
       "    }\n",
       "\n",
       "    .dataframe thead th {\n",
       "        text-align: right;\n",
       "    }\n",
       "</style>\n",
       "<table border=\"1\" class=\"dataframe\">\n",
       "  <thead>\n",
       "    <tr style=\"text-align: right;\">\n",
       "      <th></th>\n",
       "      <th>event</th>\n",
       "      <th>age</th>\n",
       "      <th>income</th>\n",
       "      <th>membership_days</th>\n",
       "      <th>gender_M</th>\n",
       "      <th>offer_type_discount</th>\n",
       "      <th>offer_type_informational</th>\n",
       "    </tr>\n",
       "  </thead>\n",
       "  <tbody>\n",
       "    <tr>\n",
       "      <th>73850</th>\n",
       "      <td>1</td>\n",
       "      <td>33.00</td>\n",
       "      <td>72000.00</td>\n",
       "      <td>1788.00</td>\n",
       "      <td>1</td>\n",
       "      <td>1</td>\n",
       "      <td>0</td>\n",
       "    </tr>\n",
       "    <tr>\n",
       "      <th>39506</th>\n",
       "      <td>0</td>\n",
       "      <td>33.00</td>\n",
       "      <td>72000.00</td>\n",
       "      <td>1788.00</td>\n",
       "      <td>1</td>\n",
       "      <td>0</td>\n",
       "      <td>1</td>\n",
       "    </tr>\n",
       "    <tr>\n",
       "      <th>22001</th>\n",
       "      <td>0</td>\n",
       "      <td>33.00</td>\n",
       "      <td>72000.00</td>\n",
       "      <td>1788.00</td>\n",
       "      <td>1</td>\n",
       "      <td>0</td>\n",
       "      <td>1</td>\n",
       "    </tr>\n",
       "    <tr>\n",
       "      <th>46140</th>\n",
       "      <td>1</td>\n",
       "      <td>33.00</td>\n",
       "      <td>72000.00</td>\n",
       "      <td>1788.00</td>\n",
       "      <td>1</td>\n",
       "      <td>0</td>\n",
       "      <td>0</td>\n",
       "    </tr>\n",
       "    <tr>\n",
       "      <th>67238</th>\n",
       "      <td>1</td>\n",
       "      <td>33.00</td>\n",
       "      <td>72000.00</td>\n",
       "      <td>1788.00</td>\n",
       "      <td>1</td>\n",
       "      <td>1</td>\n",
       "      <td>0</td>\n",
       "    </tr>\n",
       "    <tr>\n",
       "      <th>...</th>\n",
       "      <td>...</td>\n",
       "      <td>...</td>\n",
       "      <td>...</td>\n",
       "      <td>...</td>\n",
       "      <td>...</td>\n",
       "      <td>...</td>\n",
       "      <td>...</td>\n",
       "    </tr>\n",
       "    <tr>\n",
       "      <th>8367</th>\n",
       "      <td>1</td>\n",
       "      <td>34.00</td>\n",
       "      <td>34000.00</td>\n",
       "      <td>1876.00</td>\n",
       "      <td>1</td>\n",
       "      <td>0</td>\n",
       "      <td>0</td>\n",
       "    </tr>\n",
       "    <tr>\n",
       "      <th>22917</th>\n",
       "      <td>1</td>\n",
       "      <td>45.00</td>\n",
       "      <td>62000.00</td>\n",
       "      <td>1935.00</td>\n",
       "      <td>0</td>\n",
       "      <td>1</td>\n",
       "      <td>0</td>\n",
       "    </tr>\n",
       "    <tr>\n",
       "      <th>40886</th>\n",
       "      <td>1</td>\n",
       "      <td>45.00</td>\n",
       "      <td>62000.00</td>\n",
       "      <td>1935.00</td>\n",
       "      <td>0</td>\n",
       "      <td>1</td>\n",
       "      <td>0</td>\n",
       "    </tr>\n",
       "    <tr>\n",
       "      <th>59226</th>\n",
       "      <td>1</td>\n",
       "      <td>45.00</td>\n",
       "      <td>62000.00</td>\n",
       "      <td>1935.00</td>\n",
       "      <td>0</td>\n",
       "      <td>0</td>\n",
       "      <td>0</td>\n",
       "    </tr>\n",
       "    <tr>\n",
       "      <th>10778</th>\n",
       "      <td>1</td>\n",
       "      <td>45.00</td>\n",
       "      <td>62000.00</td>\n",
       "      <td>1935.00</td>\n",
       "      <td>0</td>\n",
       "      <td>1</td>\n",
       "      <td>0</td>\n",
       "    </tr>\n",
       "  </tbody>\n",
       "</table>\n",
       "<p>46242 rows × 7 columns</p>\n",
       "</div>"
      ],
      "text/plain": [
       "       event   age   income  membership_days  gender_M  offer_type_discount  offer_type_informational\n",
       "73850      1 33.00 72000.00          1788.00         1                    1                         0\n",
       "39506      0 33.00 72000.00          1788.00         1                    0                         1\n",
       "22001      0 33.00 72000.00          1788.00         1                    0                         1\n",
       "46140      1 33.00 72000.00          1788.00         1                    0                         0\n",
       "67238      1 33.00 72000.00          1788.00         1                    1                         0\n",
       "...      ...   ...      ...              ...       ...                  ...                       ...\n",
       "8367       1 34.00 34000.00          1876.00         1                    0                         0\n",
       "22917      1 45.00 62000.00          1935.00         0                    1                         0\n",
       "40886      1 45.00 62000.00          1935.00         0                    1                         0\n",
       "59226      1 45.00 62000.00          1935.00         0                    0                         0\n",
       "10778      1 45.00 62000.00          1935.00         0                    1                         0\n",
       "\n",
       "[46242 rows x 7 columns]"
      ]
     },
     "execution_count": 57,
     "metadata": {},
     "output_type": "execute_result"
    }
   ],
   "source": [
    "df1 = df[['event', 'gender', 'age', 'income', 'membership_days', 'offer_type']]\n",
    "\n",
    "#categorical data\n",
    "categorical_cols = ['gender', 'offer_type'] \n",
    "\n",
    "# Create dummy variabe\n",
    "model_df = pd.get_dummies(df1, columns = categorical_cols, drop_first=True)\n",
    "model_df['event'] = model_df.apply(lambda x: 1 if x['event'] in 'offer completed' else 0, axis=1)\n",
    "model_df"
   ]
  },
  {
   "cell_type": "code",
   "execution_count": 59,
   "metadata": {},
   "outputs": [
    {
     "data": {
      "text/html": [
       "<div>\n",
       "<style scoped>\n",
       "    .dataframe tbody tr th:only-of-type {\n",
       "        vertical-align: middle;\n",
       "    }\n",
       "\n",
       "    .dataframe tbody tr th {\n",
       "        vertical-align: top;\n",
       "    }\n",
       "\n",
       "    .dataframe thead th {\n",
       "        text-align: right;\n",
       "    }\n",
       "</style>\n",
       "<table border=\"1\" class=\"dataframe\">\n",
       "  <thead>\n",
       "    <tr style=\"text-align: right;\">\n",
       "      <th></th>\n",
       "      <th>age</th>\n",
       "      <th>income</th>\n",
       "      <th>membership_days</th>\n",
       "      <th>gender_M</th>\n",
       "      <th>offer_type_discount</th>\n",
       "      <th>offer_type_informational</th>\n",
       "    </tr>\n",
       "  </thead>\n",
       "  <tbody>\n",
       "    <tr>\n",
       "      <th>73850</th>\n",
       "      <td>33.00</td>\n",
       "      <td>72000.00</td>\n",
       "      <td>1788.00</td>\n",
       "      <td>1</td>\n",
       "      <td>1</td>\n",
       "      <td>0</td>\n",
       "    </tr>\n",
       "    <tr>\n",
       "      <th>39506</th>\n",
       "      <td>33.00</td>\n",
       "      <td>72000.00</td>\n",
       "      <td>1788.00</td>\n",
       "      <td>1</td>\n",
       "      <td>0</td>\n",
       "      <td>1</td>\n",
       "    </tr>\n",
       "    <tr>\n",
       "      <th>22001</th>\n",
       "      <td>33.00</td>\n",
       "      <td>72000.00</td>\n",
       "      <td>1788.00</td>\n",
       "      <td>1</td>\n",
       "      <td>0</td>\n",
       "      <td>1</td>\n",
       "    </tr>\n",
       "    <tr>\n",
       "      <th>46140</th>\n",
       "      <td>33.00</td>\n",
       "      <td>72000.00</td>\n",
       "      <td>1788.00</td>\n",
       "      <td>1</td>\n",
       "      <td>0</td>\n",
       "      <td>0</td>\n",
       "    </tr>\n",
       "    <tr>\n",
       "      <th>67238</th>\n",
       "      <td>33.00</td>\n",
       "      <td>72000.00</td>\n",
       "      <td>1788.00</td>\n",
       "      <td>1</td>\n",
       "      <td>1</td>\n",
       "      <td>0</td>\n",
       "    </tr>\n",
       "  </tbody>\n",
       "</table>\n",
       "</div>"
      ],
      "text/plain": [
       "        age   income  membership_days  gender_M  offer_type_discount  offer_type_informational\n",
       "73850 33.00 72000.00          1788.00         1                    1                         0\n",
       "39506 33.00 72000.00          1788.00         1                    0                         1\n",
       "22001 33.00 72000.00          1788.00         1                    0                         1\n",
       "46140 33.00 72000.00          1788.00         1                    0                         0\n",
       "67238 33.00 72000.00          1788.00         1                    1                         0"
      ]
     },
     "execution_count": 59,
     "metadata": {},
     "output_type": "execute_result"
    }
   ],
   "source": [
    "# Split the data into predictor and response\n",
    "X = model_df[['age', 'income', 'membership_days', 'gender_M', 'offer_type_discount', 'offer_type_informational']]\n",
    "Y = model_df['event']\n",
    "X.head()"
   ]
  },
  {
   "cell_type": "code",
   "execution_count": 60,
   "metadata": {},
   "outputs": [
    {
     "data": {
      "text/plain": [
       "73850    1\n",
       "39506    0\n",
       "22001    0\n",
       "46140    1\n",
       "67238    1\n",
       "Name: event, dtype: int64"
      ]
     },
     "execution_count": 60,
     "metadata": {},
     "output_type": "execute_result"
    }
   ],
   "source": [
    "Y.head()"
   ]
  },
  {
   "cell_type": "code",
   "execution_count": 61,
   "metadata": {},
   "outputs": [],
   "source": [
    "# Creating training and testing sets \n",
    "X_train, X_test, y_train, y_test = train_test_split(X, Y, random_state=69)"
   ]
  },
  {
   "cell_type": "markdown",
   "metadata": {},
   "source": [
    "### Models"
   ]
  },
  {
   "cell_type": "markdown",
   "metadata": {},
   "source": [
    "I will build multiple models to make comparison based on the metrics mentioned above and record their duration"
   ]
  },
  {
   "cell_type": "code",
   "execution_count": 62,
   "metadata": {},
   "outputs": [],
   "source": [
    "# Logistic Regression\n",
    "lr = LogisticRegression()\n",
    "start_lr = time.time()\n",
    "lr.fit(X_train, y_train)\n",
    "duration_lr = round((time.time() - start_lr)/60, 3)\n",
    "\n",
    "# Naive Bayes\n",
    "gnb = GaussianNB() \n",
    "start_gnb = time.time()\n",
    "gnb.fit(X_train, y_train) \n",
    "duration_gnb = round((time.time() - start_gnb)/60, 3)\n",
    "\n",
    "# Stochastic Gradient Descent\n",
    "sgd = SGDClassifier()\n",
    "start_sgd = time.time()\n",
    "sgd.fit(X_train, y_train)\n",
    "duration_sgd = round((time.time() - start_sgd)/60, 3)\n",
    "\n",
    "# Support Vector Machine\n",
    "svm = SVC()\n",
    "start_svm = time.time()\n",
    "svm.fit(X_train, y_train)\n",
    "duration_svm = round((time.time() - start_svm)/60, 3)\n",
    "\n",
    "# Random Forest\n",
    "rfm = RandomForestClassifier()\n",
    "start_rfm = time.time()\n",
    "rfm.fit(X_train, y_train)\n",
    "duration_rfm = round((time.time() - start_rfm)/60, 3)\n",
    "\n",
    "# K-Nearest Neighbors\n",
    "knn = KNeighborsClassifier()\n",
    "start_knn = time.time()\n",
    "knn.fit(X_train, y_train)\n",
    "duration_knn = round((time.time() - start_knn)/60, 3)"
   ]
  },
  {
   "cell_type": "markdown",
   "metadata": {},
   "source": [
    "### Model Evaluation"
   ]
  },
  {
   "cell_type": "code",
   "execution_count": 63,
   "metadata": {},
   "outputs": [
    {
     "name": "stderr",
     "output_type": "stream",
     "text": [
      "C:\\Users\\sitinurdinie\\Anaconda3\\lib\\site-packages\\sklearn\\metrics\\_classification.py:1245: UndefinedMetricWarning: Precision and F-score are ill-defined and being set to 0.0 in labels with no predicted samples. Use `zero_division` parameter to control this behavior.\n",
      "  _warn_prf(average, modifier, msg_start, len(result))\n",
      "C:\\Users\\sitinurdinie\\Anaconda3\\lib\\site-packages\\sklearn\\metrics\\_classification.py:1245: UndefinedMetricWarning: Precision and F-score are ill-defined and being set to 0.0 in labels with no predicted samples. Use `zero_division` parameter to control this behavior.\n",
      "  _warn_prf(average, modifier, msg_start, len(result))\n",
      "C:\\Users\\sitinurdinie\\Anaconda3\\lib\\site-packages\\sklearn\\metrics\\_classification.py:1245: UndefinedMetricWarning: Precision and F-score are ill-defined and being set to 0.0 in labels with no predicted samples. Use `zero_division` parameter to control this behavior.\n",
      "  _warn_prf(average, modifier, msg_start, len(result))\n"
     ]
    },
    {
     "data": {
      "text/html": [
       "<div>\n",
       "<style scoped>\n",
       "    .dataframe tbody tr th:only-of-type {\n",
       "        vertical-align: middle;\n",
       "    }\n",
       "\n",
       "    .dataframe tbody tr th {\n",
       "        vertical-align: top;\n",
       "    }\n",
       "\n",
       "    .dataframe thead th {\n",
       "        text-align: right;\n",
       "    }\n",
       "</style>\n",
       "<table border=\"1\" class=\"dataframe\">\n",
       "  <thead>\n",
       "    <tr style=\"text-align: right;\">\n",
       "      <th></th>\n",
       "      <th>duration</th>\n",
       "      <th>accuracy</th>\n",
       "      <th>precision</th>\n",
       "      <th>recall</th>\n",
       "      <th>f1_score</th>\n",
       "    </tr>\n",
       "  </thead>\n",
       "  <tbody>\n",
       "    <tr>\n",
       "      <th>lr</th>\n",
       "      <td>0.01</td>\n",
       "      <td>77.03</td>\n",
       "      <td>0.77</td>\n",
       "      <td>0.77</td>\n",
       "      <td>0.77</td>\n",
       "    </tr>\n",
       "    <tr>\n",
       "      <th>naive_bayes</th>\n",
       "      <td>0.00</td>\n",
       "      <td>75.50</td>\n",
       "      <td>0.77</td>\n",
       "      <td>0.75</td>\n",
       "      <td>0.74</td>\n",
       "    </tr>\n",
       "    <tr>\n",
       "      <th>svm</th>\n",
       "      <td>1.80</td>\n",
       "      <td>60.73</td>\n",
       "      <td>0.58</td>\n",
       "      <td>0.61</td>\n",
       "      <td>0.54</td>\n",
       "    </tr>\n",
       "    <tr>\n",
       "      <th>sgd</th>\n",
       "      <td>0.02</td>\n",
       "      <td>39.89</td>\n",
       "      <td>0.16</td>\n",
       "      <td>0.40</td>\n",
       "      <td>0.23</td>\n",
       "    </tr>\n",
       "    <tr>\n",
       "      <th>rfm</th>\n",
       "      <td>0.09</td>\n",
       "      <td>80.07</td>\n",
       "      <td>0.80</td>\n",
       "      <td>0.80</td>\n",
       "      <td>0.80</td>\n",
       "    </tr>\n",
       "    <tr>\n",
       "      <th>knn</th>\n",
       "      <td>0.00</td>\n",
       "      <td>65.22</td>\n",
       "      <td>0.64</td>\n",
       "      <td>0.65</td>\n",
       "      <td>0.65</td>\n",
       "    </tr>\n",
       "  </tbody>\n",
       "</table>\n",
       "</div>"
      ],
      "text/plain": [
       "            duration accuracy precision recall f1_score\n",
       "lr              0.01    77.03      0.77   0.77     0.77\n",
       "naive_bayes     0.00    75.50      0.77   0.75     0.74\n",
       "svm             1.80    60.73      0.58   0.61     0.54\n",
       "sgd             0.02    39.89      0.16   0.40     0.23\n",
       "rfm             0.09    80.07      0.80   0.80     0.80\n",
       "knn             0.00    65.22      0.64   0.65     0.65"
      ]
     },
     "execution_count": 63,
     "metadata": {},
     "output_type": "execute_result"
    }
   ],
   "source": [
    "# Initialize empty dataframe to store the results\n",
    "df_result = pd.DataFrame(columns=['duration', 'accuracy', 'precision', 'recall', 'f1_score'])\n",
    "\n",
    "# List of model to evaluate, its model names and duration\n",
    "model_list = [lr, gnb, svm, sgd, rfm, knn]\n",
    "model_name_list = ['lr', 'naive_bayes',  'svm', 'sgd', 'rfm', 'knn']\n",
    "model_duration_map = {'lr': duration_lr,\n",
    "                      'naive_bayes': duration_gnb,\n",
    "                      'svm': duration_svm,\n",
    "                      'sgd': duration_sgd,\n",
    "                      'rfm': duration_rfm,\n",
    "                      'knn': duration_knn}\n",
    "\n",
    "# Predict on test data - Random Forest\n",
    "i = 0\n",
    "for p_ in model_list:\n",
    "    \n",
    "    # Make predictions\n",
    "    y_pred_ = p_.predict(X_test)\n",
    "\n",
    "    # Calculate metrics\n",
    "    accuracy_ = np.round(100 * (y_pred_ == y_test).mean().mean(), 2)\n",
    "    precision_ = precision_recall_fscore_support(y_test, y_pred_, average='weighted')[0]\n",
    "    recall_ = precision_recall_fscore_support(y_test, y_pred_, average='weighted')[1]\n",
    "    f1_score_ = precision_recall_fscore_support(y_test, y_pred_, average='weighted')[2]\n",
    "    \n",
    "    # Append records\n",
    "    df_result.loc[model_name_list[i], :] = [model_duration_map.get(model_name_list[i]), \n",
    "                                            accuracy_,\n",
    "                                            precision_,\n",
    "                                            recall_,\n",
    "                                            f1_score_]\n",
    "    \n",
    "    # Update counter\n",
    "    i += 1\n",
    "    \n",
    "# View results table\n",
    "df_result"
   ]
  },
  {
   "cell_type": "markdown",
   "metadata": {},
   "source": [
    "Based on result tabulated above:\n",
    "* Support Vector Machine took the longest time to run but produced middle range of accuracy level.\n",
    "* Stochastic Gradient Descent has the lowest accuracy compared to other models. Maybe it requires a number of hyper-parameters to improve the result.\n",
    "* K-Nearest Neighbor model produce middle range of accuracy level. This is maybe because I only used  default k values fixed in scikit-learn which is 5. To improve this model, I could use elbow method to determine the best k value\n",
    "* Logistic Regression, Naive Bayes and Random Forest models achieved higher level of accuracy compared to other models.\n",
    "* Considering the metrics and duration tabulated above, Random Forest is the best model to be selected as the final model as it has the highest accuracy and reasonable amount of time to run."
   ]
  },
  {
   "cell_type": "code",
   "execution_count": 64,
   "metadata": {},
   "outputs": [
    {
     "name": "stdout",
     "output_type": "stream",
     "text": [
      "{'min_samples_split': 4, 'n_estimators': 200}\n"
     ]
    }
   ],
   "source": [
    "# Random Forest (Grid Search)\n",
    "parameters = {\n",
    "        'n_estimators': [100, 200], # default=100\n",
    "        'min_samples_split': [2, 4] # default=2\n",
    "    }\n",
    "\n",
    "# Grid Search using 4-fold cross-validation on Random Forest by doubling the hyperparameter levels\n",
    "rfm_cv = GridSearchCV(rfm, param_grid=parameters, cv=4)\n",
    "\n",
    "# Model fitting\n",
    "start_cv = time.time()\n",
    "rfm_cv.fit(X_train, y_train)\n",
    "duration_cv = round((time.time() - start_cv)/60, 3)\n",
    "\n",
    "# Output best selection of parameters\n",
    "print(rfm_cv.best_params_)"
   ]
  },
  {
   "cell_type": "code",
   "execution_count": 65,
   "metadata": {},
   "outputs": [
    {
     "name": "stdout",
     "output_type": "stream",
     "text": [
      "Time taken: 1.743 minutes\n",
      "Model accuracy: 80.42%\n",
      "              precision    recall  f1-score   support\n",
      "\n",
      "           0       0.78      0.71      0.74      4612\n",
      "           1       0.82      0.87      0.84      6949\n",
      "\n",
      "    accuracy                           0.80     11561\n",
      "   macro avg       0.80      0.79      0.79     11561\n",
      "weighted avg       0.80      0.80      0.80     11561\n",
      "\n"
     ]
    }
   ],
   "source": [
    "# Evaluate the final model\n",
    "y_pred_cv = rfm_cv.predict(X_test)\n",
    "\n",
    "# Get model duration\n",
    "print(f'Time taken: {duration_cv} minutes')\n",
    "\n",
    "# Calculate metrics\n",
    "accuracy_cv = np.round(100 * (y_pred_cv == y_test).mean().mean(), 2)\n",
    "print(f'Model accuracy: {accuracy_cv}%')\n",
    "\n",
    "# Get precision, recall and fl-score\n",
    "print(classification_report(y_test.values, y_pred_cv))"
   ]
  },
  {
   "cell_type": "markdown",
   "metadata": {},
   "source": [
    "Based on Grid Search, the model can be further improved by having min_samples_split of 4 and n_estimator of 200.  Doubling of min_samples_split and increasing of n_estimator improves the model by 0.42% which is not a significant improvement. Therefore, I choose  default Random Forest model as the final model due to its good performance based on the metrics tabulated above."
   ]
  },
  {
   "cell_type": "markdown",
   "metadata": {},
   "source": [
    "# Conclusion"
   ]
  },
  {
   "cell_type": "markdown",
   "metadata": {},
   "source": [
    "In this project, I have analysed customer profile, offer and transaction data provided by Starbucks to build and select a model that can predict which customer would complete or only view Starbucks offer. To do this, I perform data exporation on datasets provided to understand promotion offer, customer profile and transaction behaviour of the customers. I use data visualization to look for any trends and to assist my understanding. Before I start modelling, I performed Correlation Analysis to avoid using predictors that are correlate with each other and narrow down the predictors to be used in the model. I build multiple models using different classification algorithm to compare and select model with the best performance based on metrics and duration to run. The final model is Random Forest model with accuracy of 80%"
   ]
  },
  {
   "cell_type": "markdown",
   "metadata": {},
   "source": [
    "# Reflection"
   ]
  },
  {
   "cell_type": "markdown",
   "metadata": {},
   "source": [
    "Through this project, I learned about the importance of defining and understanding a problem statement. When there's a lot of data available, there are a lot of analysis that can be done and it is easy to stray away from the real objective of the project. Good understanding about a project can help one to identify better on what data that he/she truly needs.\n",
    "\n",
    "The most challenging but interesting part are to learn and identify the type of algorithm I should use to solve the problem. In this project, I learn more about different types of classification algorithms. Although I didnt fully explored the hyper parameter and tuning for the model, this is definitely a good start for me."
   ]
  },
  {
   "cell_type": "markdown",
   "metadata": {},
   "source": [
    "# Improvement"
   ]
  },
  {
   "cell_type": "markdown",
   "metadata": {},
   "source": [
    "The final model result achieve 80% of accuracy which is pretty good to me. I think the data collection can be improved to fix the issues related to missing values in the data. The missing values in the data is 2175 which is 13% of the customer dataset. For me, this is quite a lot. Having more data to learn from always good to improve the model's accuracy and credibility. Another thing that can be improved is to try more complex algorithm like  Ensemble method. It is generally more complex than the traditional ones and traditional methods can give a good base level from which it can be improved by creating the ensembles."
   ]
  }
 ],
 "metadata": {
  "kernelspec": {
   "display_name": "Python 3",
   "language": "python",
   "name": "python3"
  },
  "language_info": {
   "codemirror_mode": {
    "name": "ipython",
    "version": 3
   },
   "file_extension": ".py",
   "mimetype": "text/x-python",
   "name": "python",
   "nbconvert_exporter": "python",
   "pygments_lexer": "ipython3",
   "version": "3.8.8"
  }
 },
 "nbformat": 4,
 "nbformat_minor": 2
}
